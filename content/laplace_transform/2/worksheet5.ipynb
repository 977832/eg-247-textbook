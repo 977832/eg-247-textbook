{
 "cells": [
  {
   "cell_type": "markdown",
   "metadata": {
    "slideshow": {
     "slide_type": "skip"
    }
   },
   "source": [
    "**Lecturer**\n",
    "\n",
    "Set up MATLAB"
   ]
  },
  {
   "cell_type": "code",
   "execution_count": null,
   "metadata": {
    "slideshow": {
     "slide_type": "skip"
    }
   },
   "outputs": [],
   "source": [
    "clear all\n",
    "format compact"
   ]
  },
  {
   "cell_type": "markdown",
   "metadata": {
    "slideshow": {
     "slide_type": "slide"
    }
   },
   "source": [
    "# Worksheet 4\n",
    "\n",
    "## To accompany Chapter 2.1 Laplace Transform\n",
    "\n",
    "We will step through this worksheet in class. \n",
    "\n",
    "You are expected to have at least watched the video presentation of [Chapter 3.1](https://cpjobling.github.io/eg-247-textbook/laplace_transform/1/laplace) of the [notes](https://cpjobling.github.io/eg-247-textbook) before coming to class. If you haven't watch it afterwards!"
   ]
  },
  {
   "cell_type": "markdown",
   "metadata": {
    "slideshow": {
     "slide_type": "slide"
    }
   },
   "source": [
    "## TurningPoint Mobile Polling Setup\n",
    "\n",
    "We will be using TurningPoint mobile response system polling in this session.\n",
    "\n",
    "There are two ways to participate:"
   ]
  },
  {
   "cell_type": "markdown",
   "metadata": {
    "slideshow": {
     "slide_type": "subslide"
    }
   },
   "source": [
    "### 1. Use a web browser \n",
    "\n",
    "This option always works providing you have a mobile web browser.\n",
    "\n",
    "Browse to: [https://ttpoll.eu](https://ttpoll.eu). \n",
    "\n",
    "<img src=\"https://chart.googleapis.com/chart?cht=qr&chs=300x300&choe=UTF-8&chld=H&chl=https://ttpoll.eu\" alt=\"QR Code\" />\n",
    "\n",
    "https://ttpoll.eu"
   ]
  },
  {
   "cell_type": "markdown",
   "metadata": {
    "slideshow": {
     "slide_type": "subslide"
    }
   },
   "source": [
    "### 2. Install and open the TurningPoint app \n",
    "\n",
    "Browse to: [TurningPoint\n",
    "app](https://www.turningtechnologies.com/turningpoint-app/)\n",
    "\n",
    "<img alt=\"QR Code\" src=\"https://chart.googleapis.com/chart?cht=qr&chs=300x300&choe=UTF-8&chld=H&chl=https://goo.gl/MEjxu7\" />\n",
    "\n",
    "https://goo.gl/MEjxu7\n",
    "\n",
    "Use the links to the App stores at the bottom of that page or follow these links: [App Store](https://itunes.apple.com/us/app/responseware/id300028504?mt=8), [Google Play](https://play.google.com/store/apps/details?id=com.turningTech.Responseware&feature=search_result#?t=W251bGwsMSwyLDEsImNvbS50dXJuaW5nVGVjaC5SZXNwb25zZXdhcmUiXQ..)."
   ]
  },
  {
   "cell_type": "markdown",
   "metadata": {
    "slideshow": {
     "slide_type": "subslide"
    }
   },
   "source": [
    "When prompted: enter the **session ID**\n",
    "\n",
    "### Today's Session ID\n",
    "<pre>\n",
    "\n",
    "\n",
    "\n",
    "</pre>\n",
    "<div style=\"font-size: 32pt; font-face: bold;\">EG2470002</div>\n",
    "<pre>\n",
    "\n",
    "\n",
    "\n",
    "</pre>"
   ]
  },
  {
   "cell_type": "markdown",
   "metadata": {
    "slideshow": {
     "slide_type": "subslide"
    }
   },
   "source": [
    "### Assign yourself to a group by table\n",
    "\n",
    "There should be a card with a **group name** on your table."
   ]
  },
  {
   "cell_type": "markdown",
   "metadata": {
    "slideshow": {
     "slide_type": "fragment"
    }
   },
   "source": [
    "Please use your TurningPoint app or the TurningPoint web app to assign yourself to your table's group name."
   ]
  },
  {
   "cell_type": "markdown",
   "metadata": {
    "slideshow": {
     "slide_type": "fragment"
    }
   },
   "source": [
    "#### -> Launch Poll"
   ]
  },
  {
   "cell_type": "markdown",
   "metadata": {
    "slideshow": {
     "slide_type": "subslide"
    }
   },
   "source": [
    "### Icebreaker Questions"
   ]
  },
  {
   "cell_type": "markdown",
   "metadata": {
    "slideshow": {
     "slide_type": "fragment"
    }
   },
   "source": [
    "#### -> Launch Poll"
   ]
  },
  {
   "cell_type": "markdown",
   "metadata": {
    "slideshow": {
     "slide_type": "subslide"
    }
   },
   "source": [
    "### End of setup"
   ]
  },
  {
   "cell_type": "markdown",
   "metadata": {
    "slideshow": {
     "slide_type": "slide"
    }
   },
   "source": [
    "## Laplace transforms of common waveforms\n",
    "\n",
    "We will work through a few of the following on the board in class\n",
    "\n",
    "* Pulse\n",
    "* Linear segment\n",
    "* Triangular waveform\n",
    "* Rectangular periodic waveform (square wave)\n",
    "* Half rectified sine wave"
   ]
  },
  {
   "cell_type": "markdown",
   "metadata": {},
   "source": [
    "### Pulse\n",
    "\n",
    "Compute the Laplace transform of the pulse shown in the figure.\n",
    "\n",
    "![pulse](images/pulse.png)"
   ]
  },
  {
   "cell_type": "code",
   "execution_count": null,
   "metadata": {},
   "outputs": [],
   "source": []
  },
  {
   "cell_type": "code",
   "execution_count": null,
   "metadata": {},
   "outputs": [],
   "source": []
  }
 ],
 "metadata": {
  "celltoolbar": "Slideshow",
  "kernelspec": {
   "display_name": "Matlab",
   "language": "matlab",
   "name": "matlab"
  }
 },
 "nbformat": 4,
 "nbformat_minor": 2
}

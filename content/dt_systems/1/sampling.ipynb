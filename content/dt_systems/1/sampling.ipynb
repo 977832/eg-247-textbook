{
 "cells": [
  {
   "cell_type": "markdown",
   "metadata": {
    "slideshow": {
     "slide_type": "slide"
    }
   },
   "source": [
    "# Sampling Theory"
   ]
  },
  {
   "cell_type": "markdown",
   "metadata": {
    "slideshow": {
     "slide_type": "slide"
    }
   },
   "source": [
    "## Scope and Background Reading\n",
    "\n",
    "This session is an introduction to sampling theory. It reviews the important ideas that pertain to sampling but leaves the detailed mathematics for your further study.\n",
    "\n",
    "The material in this presentation and notes is based on Chapter 15 of [Benoit Boulet, Fundamentals of Signals and Systems](http://site.ebrary.com/lib/swansea/docDetail.action?docID=10228195) from the **Recommended Reading List** and you'll find the mathematical treatments there. There is much more detail in Chapter 9 of [Steven T. Karris, Signals and Systems: with Matlab Computation and Simulink Modelling, 5th Edition](http://site.ebrary.com/lib/swansea/docDetail.action?docID=10547416) from the **Required Reading List**."
   ]
  },
  {
   "cell_type": "markdown",
   "metadata": {
    "slideshow": {
     "slide_type": "slide"
    }
   },
   "source": [
    "## Agenda"
   ]
  },
  {
   "cell_type": "markdown",
   "metadata": {
    "slideshow": {
     "slide_type": "fragment"
    }
   },
   "source": [
    "* Sampling of Continuous-Time Signals"
   ]
  },
  {
   "cell_type": "markdown",
   "metadata": {
    "slideshow": {
     "slide_type": "fragment"
    }
   },
   "source": [
    "* Signal Reconstruction"
   ]
  },
  {
   "cell_type": "markdown",
   "metadata": {
    "slideshow": {
     "slide_type": "fragment"
    }
   },
   "source": [
    "* Discrete-time Processing of Continuous-Time Signals"
   ]
  },
  {
   "cell_type": "markdown",
   "metadata": {
    "slideshow": {
     "slide_type": "fragment"
    }
   },
   "source": [
    "* Sampling of Discrete-Time Systems"
   ]
  },
  {
   "cell_type": "markdown",
   "metadata": {
    "slideshow": {
     "slide_type": "slide"
    }
   },
   "source": [
    "## Acknowledgements\n",
    "\n",
    "We will be using an adaptation of a pair of demo scripts to illustrate *alialising*. These scripts were published by Prof. Charles A. Bouman, School of Electrical and Computer Engineering, Purdue University as part of the course materials for [ECE438: Digital Signal Processing](https://engineering.purdue.edu/VISE/ee438/demos/)."
   ]
  },
  {
   "cell_type": "markdown",
   "metadata": {
    "slideshow": {
     "slide_type": "slide"
    }
   },
   "source": [
    "## Introduction\n",
    "\n",
    "* The *sampling process* provides the bridge between continuous-time (CT) and discrete-time (DT) signals\n",
    "* Sampling records discrete values of a CT signal at periodic instants of time.\n",
    "* Sampled data can be used in *real-time* or *off-line* processing\n",
    "* Sampling opens up possibility of processing CT signals through *finite impulse response* (FIR) and *infinite impulse response* (IIR) filters."
   ]
  },
  {
   "cell_type": "markdown",
   "metadata": {
    "slideshow": {
     "slide_type": "subslide"
    }
   },
   "source": [
    "### In Class Demo 1: Sampling\n",
    "\n",
    "I need a volunteer to provide a sound sample ....\n",
    "\n",
    "1. I will use this [Live Script](https://uk.mathworks.com/help/matlab/matlab_prog/what-is-a-live-script-or-function.html) [sampling_demo.mlx](matlab/sampling_demo.mlx) to sample your voice.\n",
    "2. I will then playback the recording.\n",
    "3. I will the plot the data."
   ]
  },
  {
   "cell_type": "code",
   "execution_count": 4,
   "metadata": {
    "slideshow": {
     "slide_type": "subslide"
    }
   },
   "outputs": [],
   "source": [
    "cd matlab\n",
    "open sampling_demo"
   ]
  },
  {
   "cell_type": "markdown",
   "metadata": {
    "slideshow": {
     "slide_type": "subslide"
    }
   },
   "source": [
    "#### Technical Details\n",
    "\n",
    "* **Sampling rate**: 8000 samples per second (fs = 8 kHz)\n",
    "* **Resolution**: 8 bits per sample\n",
    "* **Channels**: 1 channel. \n",
    "* **Reconstruction**: Matlab plays the audio back at 8192 samples per second.\n"
   ]
  },
  {
   "cell_type": "markdown",
   "metadata": {
    "slideshow": {
     "slide_type": "subslide"
    }
   },
   "source": [
    "#### Question\n",
    "\n",
    "What will the bit-rate be for playback?"
   ]
  },
  {
   "cell_type": "markdown",
   "metadata": {
    "slideshow": {
     "slide_type": "notes"
    }
   },
   "source": [
    "<pre style=\"border: 2px solid blue\">\n",
    "\n",
    "\n",
    "\n",
    "\n",
    "\n",
    "</pre>"
   ]
  },
  {
   "cell_type": "markdown",
   "metadata": {
    "slideshow": {
     "slide_type": "slide"
    }
   },
   "source": [
    "## Sampling CT Signals"
   ]
  },
  {
   "cell_type": "markdown",
   "metadata": {
    "slideshow": {
     "slide_type": "notes"
    }
   },
   "source": [
    "What is going on here?"
   ]
  },
  {
   "cell_type": "markdown",
   "metadata": {
    "slideshow": {
     "slide_type": "subslide"
    }
   },
   "source": [
    "### Time domain\n",
    "\n",
    "Sampling can be modelled as the multiplication of a continuous-time signal by a sequence of periodic impulses as illustrated here.\n",
    "\n",
    "<img src=\"pictures/sampling.png\">\n",
    "\n",
    "This is a form of **modulation**\n",
    "\n",
    "$T_s$ is the period of the periodic sampling function."
   ]
  },
  {
   "cell_type": "markdown",
   "metadata": {
    "slideshow": {
     "slide_type": "subslide"
    }
   },
   "source": [
    "### Frequency domain\n",
    "\n",
    "Multiplication in the time domain is *convolution* in the frequency domain\n",
    "\n",
    "<img src=\"pictures/sampling_fr.png\">\n",
    "\n",
    "$\\omega_s$ is the frequency of the periodic sampling function = $2\\pi/T_s$."
   ]
  },
  {
   "cell_type": "markdown",
   "metadata": {
    "slideshow": {
     "slide_type": "subslide"
    }
   },
   "source": [
    "### The Mathematics\n",
    "\n",
    "**The Sampled signal**:\n",
    "\n",
    "$${x_s}(t) = \\sum\\limits_{k =  - \\infty }^{ + \\infty } {x(k{T_s})\\delta (t - k{T_s})} $$"
   ]
  },
  {
   "cell_type": "markdown",
   "metadata": {
    "slideshow": {
     "slide_type": "fragment"
    }
   },
   "source": [
    "**Frequency convolution**:\n",
    "$${X_s}(\\omega ) = \\frac{1}{T_s}\\int_{ - \\infty }^{ + \\infty } {X(\\upsilon )} \\sum\\limits_{k =  - \\infty }^{ + \\infty } {\\delta (t - \\upsilon  - k{\\omega _s})} \\,d\\upsilon $$"
   ]
  },
  {
   "cell_type": "markdown",
   "metadata": {
    "slideshow": {
     "slide_type": "subslide"
    }
   },
   "source": [
    "**Sampling property**:\n",
    "\n",
    "$${X_s}(\\omega ) = \\frac{1}{T_s}\\int_{ - \\infty }^{ + \\infty } {\\sum\\limits_{k =  - \\infty }^{ + \\infty } {X(\\omega  - k{\\omega _s})} } \\delta (t - \\upsilon  - k{\\omega _s})\\,d\\upsilon $$"
   ]
  },
  {
   "cell_type": "markdown",
   "metadata": {
    "slideshow": {
     "slide_type": "fragment"
    }
   },
   "source": [
    "**Sifting property**:\n",
    "\n",
    "$${X_s}(\\omega ) = \\frac{1}{T_s}\\sum\\limits_{n =  - \\infty }^{ + \\infty } {X(\\omega  - k{\\omega _s})}$$"
   ]
  },
  {
   "cell_type": "markdown",
   "metadata": {
    "slideshow": {
     "slide_type": "fragment"
    }
   },
   "source": [
    "### Nyquist-Shannon Sampling Theorem\n",
    "\n",
    "Gives a sufficient condition to recover a continuous time signal from its samples $x(nT_s)$, $n$ is an integer."
   ]
  },
  {
   "cell_type": "markdown",
   "metadata": {
    "slideshow": {
     "slide_type": "subslide"
    }
   },
   "source": [
    "**Sampling Theoreom**\n",
    "\n",
    "Let $x(t)$ be a band-limited signal with $X(\\omega) = 0$ for $|\\omega|>\\omega_M$.\n",
    "\n",
    "Then $x(t)$ is uniquely determined by its samples $x(nT_s)$, $-\\infty <n < +\\infty$ if\n",
    "\n",
    "$$\\omega_s > 2\\omega_M,$$\n",
    "\n",
    "where $\\omega_s = 2\\pi/T_s$ is the sampling frequency."
   ]
  },
  {
   "cell_type": "markdown",
   "metadata": {
    "slideshow": {
     "slide_type": "subslide"
    }
   },
   "source": [
    "### Recovery of signal by filtering\n",
    "\n",
    "<img src=\"pictures/recovery.png\">"
   ]
  },
  {
   "cell_type": "markdown",
   "metadata": {
    "slideshow": {
     "slide_type": "subslide"
    }
   },
   "source": [
    "<img src=\"pictures/recovered.png\">"
   ]
  },
  {
   "cell_type": "markdown",
   "metadata": {
    "slideshow": {
     "slide_type": "subslide"
    }
   },
   "source": [
    "### Ideal Lowpass Filter for CT Recovery from DT Sampled Signal\n",
    "\n",
    "<img src=\"pictures/recover-lp.png\">\n",
    "\n",
    "This is of course theoretical only!\n"
   ]
  },
  {
   "cell_type": "markdown",
   "metadata": {
    "slideshow": {
     "slide_type": "subslide"
    }
   },
   "source": [
    "### Sample-and-hold\n",
    "\n",
    "<img src=\"pictures/sandh.png\">"
   ]
  },
  {
   "cell_type": "markdown",
   "metadata": {
    "slideshow": {
     "slide_type": "subslide"
    }
   },
   "source": [
    "### Sample-and-hold operator\n",
    "\n",
    "<img src=\"pictures/zoh.png\">"
   ]
  },
  {
   "cell_type": "markdown",
   "metadata": {
    "slideshow": {
     "slide_type": "slide"
    }
   },
   "source": [
    "### In Class Demo 2 "
   ]
  },
  {
   "cell_type": "markdown",
   "metadata": {
    "slideshow": {
     "slide_type": "subslide"
    }
   },
   "source": [
    "#### Illustrating Sampling in MATLAB\n",
    "\n",
    "Basic set up"
   ]
  },
  {
   "cell_type": "code",
   "execution_count": 5,
   "metadata": {
    "slideshow": {
     "slide_type": "subslide"
    }
   },
   "outputs": [],
   "source": [
    "clear all\n",
    "format compact\n",
    "w0 = 1;        % fundamental frequency rad/s\n",
    "t0=2*pi/w0;    % period s\n",
    "tmax = 1.5*t0; % plottable range"
   ]
  },
  {
   "cell_type": "markdown",
   "metadata": {
    "slideshow": {
     "slide_type": "subslide"
    }
   },
   "source": [
    "#### Define a suitable signal\n",
    "We will use a system with an underdamped second-order response.\n",
    "\n",
    "The transfer function is:\n",
    "$$H(s) = \\frac{\\omega_0^2}{s^2 + 2\\zeta\\omega_0 s + \\omega_0^2}$$\n"
   ]
  },
  {
   "cell_type": "code",
   "execution_count": 6,
   "metadata": {
    "slideshow": {
     "slide_type": "fragment"
    }
   },
   "outputs": [
    {
     "name": "stdout",
     "output_type": "stream",
     "text": [
      "H =\n",
      "1/(s^2 + (3*s)/5 + 1)\n"
     ]
    }
   ],
   "source": [
    "syms s t\n",
    "zeta = 0.3;\n",
    "H = w0^2/(s^2 + 2*zeta*w0*s + w0^2)"
   ]
  },
  {
   "cell_type": "markdown",
   "metadata": {
    "slideshow": {
     "slide_type": "subslide"
    }
   },
   "source": [
    "#### Calculate and plot the impulse response"
   ]
  },
  {
   "cell_type": "code",
   "execution_count": 7,
   "metadata": {
    "slideshow": {
     "slide_type": "fragment"
    }
   },
   "outputs": [
    {
     "name": "stdout",
     "output_type": "stream",
     "text": [
      "h =\n",
      "(10*91^(1/2)*exp(-(3*t)/10)*sin((91^(1/2)*t)/10))/91\n"
     ]
    }
   ],
   "source": [
    "h = ilaplace(H)"
   ]
  },
  {
   "cell_type": "code",
   "execution_count": 8,
   "metadata": {
    "slideshow": {
     "slide_type": "subslide"
    }
   },
   "outputs": [],
   "source": [
    "t = linspace(0,tmax,100);\n",
    "xc = eval(h); % eval evaluates a symbolic expression as a MATLAB command.\n",
    "tc = t;"
   ]
  },
  {
   "cell_type": "code",
   "execution_count": 9,
   "metadata": {
    "slideshow": {
     "slide_type": "subslide"
    }
   },
   "outputs": [
    {
     "data": {
      "image/png": "[encoded data removed]",
      "text/plain": [
       "<IPython.core.display.Image object>"
      ]
     },
     "metadata": {},
     "output_type": "display_data"
    }
   ],
   "source": [
    "plot(tc,xc)\n",
    "title('Fig 1: Continuous Time Signal x(t)')\n",
    "ylabel('x(t)')\n",
    "xlabel('Time t [s]')"
   ]
  },
  {
   "cell_type": "markdown",
   "metadata": {
    "slideshow": {
     "slide_type": "notes"
    }
   },
   "source": [
    "You can generate all the images in this presentation by running the Matlab script: [sampling.m](sampling.m) which is also available as a Live Script [sampling.mlx](matlab/sampling.mlx)."
   ]
  },
  {
   "cell_type": "markdown",
   "metadata": {
    "slideshow": {
     "slide_type": "subslide"
    }
   },
   "source": [
    "#### Calculate and plot the sampled data"
   ]
  },
  {
   "cell_type": "code",
   "execution_count": 10,
   "metadata": {
    "slideshow": {
     "slide_type": "fragment"
    }
   },
   "outputs": [],
   "source": [
    "ws = 4*w0; % twice minimum!\n",
    "Ts = (2*pi)/ws;\n",
    "t = 0:Ts:tmax;\n",
    "xs = eval(h);\n",
    "td = t;"
   ]
  },
  {
   "cell_type": "code",
   "execution_count": 11,
   "metadata": {
    "slideshow": {
     "slide_type": "subslide"
    }
   },
   "outputs": [
    {
     "data": {
      "image/png": "[encoded data removed]",
      "text/plain": [
       "<IPython.core.display.Image object>"
      ]
     },
     "metadata": {},
     "output_type": "display_data"
    }
   ],
   "source": [
    "stem(td,xs)\n",
    "hold on\n",
    "plot(tc,xc,'r:')\n",
    "hold off\n",
    "title('Fig 2: Sampled Signal x_s(t)')\n",
    "ylabel('x_s(t)')\n",
    "xlabel('Time t [s]')"
   ]
  },
  {
   "cell_type": "markdown",
   "metadata": {
    "slideshow": {
     "slide_type": "notes"
    }
   },
   "source": [
    "#### Notes\n",
    "\n",
    "The sampled signal $x_0(t)$ carries the same information as the samples themselves, so we should be able to recover the entire signal $x(t)$.\n",
    "\n",
    "From the block diagram of the sample-and-hold operator, what we would need to do is find the inverse of the ZOH system with impulse response $h_0(t)$ and then use a perfect lowpass filter.\n",
    "\n",
    "The frequency response $H_0(\\omega)$ is given by the usual sinc function for an even rectangular pulse signal, multiplied by $e^{-j\\omega T_s/2}$ because we need a time delay of $T_s/2$ to make the signal causal:\n",
    "\n",
    "$${H_0}(\\omega ) = {T_s}{e^{ - j\\omega {T_s}/2}}\\frac{\\sin \\left( {\\pi \\frac{T_s}{2\\pi }\\omega } \\right)}{\\pi \\frac{T_s}{2\\pi}\\omega } = 2{e^{ - j\\omega {T_s}/2}}\\frac{\\sin \\left( {\\omega {T_s}/2} \\right)}{\\omega }$$\n",
    "\n",
    "The inverse of $H_0(\\omega)$ is given by\n",
    "\n",
    "$${H_1}(\\omega ) = {H^{ - 1}}(\\omega ) = \\frac{1}{2}{e^{j\\omega \\frac{T_s}{2}}}\\frac{\\omega }{\\sin \\left( {\\frac{T_s}{2}\\omega } \\right)}$$\n",
    "\n",
    "The *reconstruction filter* is the cascade of the inverse filter and the lowpass filter:\n",
    "\n",
    "$$H_r(\\omega)=T_sH_{\\mathrm{lp}}(\\omega)H_1(\\omega)$$\n",
    "\n",
    "<img src=\"pictures/reconstruction_filter.png\">\n",
    "\n",
    "The frequency response of this filter and additional notes are to be found on Page 546 of Boulet."
   ]
  },
  {
   "cell_type": "markdown",
   "metadata": {
    "slideshow": {
     "slide_type": "slide"
    }
   },
   "source": [
    "## Signal Reconstruction\n",
    "\n",
    "**Problem**\n",
    "\n",
    "* We have a bandlimited signal that is sampled at the Nyquist-Shannon sampling frequency $\\omega_s = 2\\pi/T_s$.\n",
    "* We therefore have a discrete-time (DT) signal $x(nT_s)$ from which we want to reconstruct the original signal."
   ]
  },
  {
   "cell_type": "markdown",
   "metadata": {
    "slideshow": {
     "slide_type": "subslide"
    }
   },
   "source": [
    "### Perfect Signal Interpolation Using sinc Functions\n",
    "\n",
    "* In the *frequency domain*, the ideal way to reconstruct the signal would be to construct a chain of impulses $x_s(t)$ and then to filter this signal with an ideal lowpass filter.\n",
    "\n",
    "* In the *time domain*, this is equivalent to interpolating the samples using time-shifted sinc functions with zeros at $nT_s$ for $\\omega_c = \\omega_s$.\n"
   ]
  },
  {
   "cell_type": "markdown",
   "metadata": {
    "slideshow": {
     "slide_type": "subslide"
    }
   },
   "source": [
    "### In Class Demo 3: MATLAB Demonstrations of signal reconstruction"
   ]
  },
  {
   "cell_type": "markdown",
   "metadata": {
    "slideshow": {
     "slide_type": "subslide"
    }
   },
   "source": [
    " #### Reconstruction with sinc function"
   ]
  },
  {
   "cell_type": "code",
   "execution_count": 12,
   "metadata": {
    "slideshow": {
     "slide_type": "subslide"
    }
   },
   "outputs": [
    {
     "data": {
      "image/png": "[encoded data removed]",
      "text/plain": [
       "<IPython.core.display.Image object>"
      ]
     },
     "metadata": {},
     "output_type": "display_data"
    }
   ],
   "source": [
    "stem(td,xs)\n",
    "hold on"
   ]
  },
  {
   "cell_type": "code",
   "execution_count": 13,
   "metadata": {
    "slideshow": {
     "slide_type": "subslide"
    }
   },
   "outputs": [],
   "source": [
    "x = zeros(length(td),length(tc));\n",
    "for k=1:length(td)\n",
    "    xk = xs(k);\n",
    "    sincx = xk*sin(pi*(tc - td(k))/Ts)./(pi*(tc - td(k))/Ts);\n",
    "    x(k,:) = sincx;\n",
    "end"
   ]
  },
  {
   "cell_type": "code",
   "execution_count": 14,
   "metadata": {
    "slideshow": {
     "slide_type": "subslide"
    }
   },
   "outputs": [
    {
     "data": {
      "image/png": "[encoded data removed]",
      "text/plain": [
       "<IPython.core.display.Image object>"
      ]
     },
     "metadata": {},
     "output_type": "display_data"
    }
   ],
   "source": [
    "plot(tc,x,'-.')\n",
    "hold off\n",
    "title('Fig 5: Signal x(t) reconstructed with sinc functions')\n",
    "ylabel('x(t)')\n",
    "xlabel('Time t [s]')"
   ]
  },
  {
   "cell_type": "markdown",
   "metadata": {
    "slideshow": {
     "slide_type": "notes"
    }
   },
   "source": [
    "Each impulse in $x_s(t)$ triggers the impulse reponse of the lowpass filter (the sinc signal), the resulting signal $x(t)$ at the output of the filter is the sum of all these time-shifted sinc signals with amplitudes equal to the samples $x(nT_s)$.\n",
    "\n",
    "$$x(t) = \\sum\\limits_{k =  - \\infty }^{ + \\infty } {x(n{T_s}){\\rm{sinc}}} \\left( {\\frac{t - n{T_s}}{T_s}} \\right)$$\n",
    "\n",
    "(Note we have defined ${\\rm{sinc}}(x)$ as $\\sin(\\pi x)/(\\pi x)$.)"
   ]
  },
  {
   "cell_type": "markdown",
   "metadata": {
    "slideshow": {
     "slide_type": "subslide"
    }
   },
   "source": [
    "#### Reconstructed signal\n",
    "Obtained by summing all the sinc functions"
   ]
  },
  {
   "cell_type": "code",
   "execution_count": 15,
   "metadata": {
    "slideshow": {
     "slide_type": "subslide"
    }
   },
   "outputs": [
    {
     "data": {
      "image/png": "[encoded data removed]",
      "text/plain": [
       "<IPython.core.display.Image object>"
      ]
     },
     "metadata": {},
     "output_type": "display_data"
    }
   ],
   "source": [
    "plot(tc,sum(x),tc,xc,'r:')\n",
    "title('Fig 6: Reconstruction with sinc functions')\n",
    "ylabel('x(t)')"
   ]
  },
  {
   "cell_type": "markdown",
   "metadata": {
    "slideshow": {
     "slide_type": "notes"
    }
   },
   "source": [
    "This is clearly unfeasible, at least in real-time, so we have to resort to approximations of the ideal low-pass filter. \n",
    "\n",
    "A couple of examples are given below. Boulet gives more information including an evaluation of the quality of the approximation.\n",
    "\n",
    "In practice, the zero-order-hold is often used in practice and a low-pass filter with a flat passband (such as the Butterworth filter discussed in the last lecture) would be used. In audio applications, for example, the low-pass nature of speakers and the human ear add additional smoothing. For non HiFi applications (e.g. an MP3 player), this may be all that is actually used!"
   ]
  },
  {
   "cell_type": "markdown",
   "metadata": {
    "slideshow": {
     "slide_type": "subslide"
    }
   },
   "source": [
    "#### Signal reconstructed with zero-order hold (ZOH)"
   ]
  },
  {
   "cell_type": "code",
   "execution_count": 16,
   "metadata": {
    "slideshow": {
     "slide_type": "subslide"
    }
   },
   "outputs": [
    {
     "data": {
      "image/png": "[encoded data removed]",
      "text/plain": [
       "<IPython.core.display.Image object>"
      ]
     },
     "metadata": {},
     "output_type": "display_data"
    }
   ],
   "source": [
    "stairs(td,xs)\n",
    "hold on\n",
    "plot(tc,xc,'r:')\n",
    "title('Fig 3: Signal x(t) reconstructed with zero-order-hold')\n",
    "ylabel('x(t)')\n",
    "xlabel('Time t [s]')"
   ]
  },
  {
   "cell_type": "markdown",
   "metadata": {
    "slideshow": {
     "slide_type": "subslide"
    }
   },
   "source": [
    "#### Signal reconstructed with First-order hold (FOH)"
   ]
  },
  {
   "cell_type": "code",
   "execution_count": 17,
   "metadata": {
    "slideshow": {
     "slide_type": "subslide"
    }
   },
   "outputs": [
    {
     "data": {
      "image/png": "[encoded data removed]",
      "text/plain": [
       "<IPython.core.display.Image object>"
      ]
     },
     "metadata": {},
     "output_type": "display_data"
    }
   ],
   "source": [
    "plot(td,xs,'bo-',tc,xc,'r:')\n",
    "title('Fig 4: Signal x(t) reconstructed with first-order-hold')\n",
    "ylabel('x(t)')\n",
    "xlabel('Time t [s]')"
   ]
  },
  {
   "cell_type": "markdown",
   "metadata": {
    "slideshow": {
     "slide_type": "slide"
    }
   },
   "source": [
    "## Aliasing\n",
    "\n",
    "* Aliasing Occurs when the sampling frequency is too low to ovoid overlapping between the spectra.\n",
    "\n",
    "* When aliasing occours, we have violated the sampling theorem: that is $\\omega_s < 2\\omega_m$.\n",
    "\n",
    "* When aliasing occurs, the original signal cannot be recovered by lowpass filtering."
   ]
  },
  {
   "cell_type": "markdown",
   "metadata": {
    "slideshow": {
     "slide_type": "subslide"
    }
   },
   "source": [
    "### An Aliased Signal\n",
    "\n",
    "<img src=\"pictures/aliasing.png\">"
   ]
  },
  {
   "cell_type": "markdown",
   "metadata": {
    "slideshow": {
     "slide_type": "subslide"
    }
   },
   "source": [
    "### In Class Demo 4"
   ]
  },
  {
   "cell_type": "markdown",
   "metadata": {
    "slideshow": {
     "slide_type": "subslide"
    }
   },
   "source": [
    "#### Demo 4.1\n",
    "\n",
    "We use the recording made at the start and run it through a script that effectively aliases the original signal be reducing the sampling frequency to less than half the original sampling frequency.\n",
    "\n",
    "Here's the script: [aliaseg1.mlx](aliaseg1.mlx) that I'll be using. (Also available as an m-file [aliaseg1.m](aliaseg1.m))"
   ]
  },
  {
   "cell_type": "code",
   "execution_count": 18,
   "metadata": {
    "slideshow": {
     "slide_type": "fragment"
    }
   },
   "outputs": [],
   "source": [
    "open aliaseg1"
   ]
  },
  {
   "cell_type": "markdown",
   "metadata": {
    "slideshow": {
     "slide_type": "subslide"
    }
   },
   "source": [
    "#### Demo  4.2\n",
    "\n",
    "Assume signal $x(t)=\\cos(\\omega_0 t)$ is sampled at a rate of $\\omega_s = 1.5\\omega_0$, violating the sampling theorem."
   ]
  },
  {
   "cell_type": "code",
   "execution_count": 19,
   "metadata": {
    "slideshow": {
     "slide_type": "subslide"
    }
   },
   "outputs": [],
   "source": [
    "open aliasing"
   ]
  },
  {
   "cell_type": "markdown",
   "metadata": {
    "slideshow": {
     "slide_type": "subslide"
    }
   },
   "source": [
    "We can see the effect on the plot below:\n",
    "\n",
    "<img src=\"pictures/aliasing_ex.png\" />\n",
    "\n",
    "Image generated by [aliasing.mlx](aliasing.mlx) (Also available as [aliasing.m](aliasing.m))."
   ]
  },
  {
   "cell_type": "markdown",
   "metadata": {
    "slideshow": {
     "slide_type": "notes"
    }
   },
   "source": [
    "You should confirm for yourself that after lowpass filtering the spectrum with a filter with cutofff frequency $\\omega_c = \\omega_s/2$ that the signal returned is the spectrum of $x(t)=\\cos(\\omega_0 t/2)$"
   ]
  },
  {
   "cell_type": "markdown",
   "metadata": {
    "slideshow": {
     "slide_type": "slide"
    }
   },
   "source": [
    "### Antialising Filters\n",
    "\n",
    "* Most real signals are not band-limited so we have to artificially make them bandlimited  using an *anti-aliasing filter*.\n",
    "\n",
    "* An anti-aliasing filter is a low-pass filter whose cutoff frequency is lower than half the sampling frequency.\n",
    "\n",
    "* This can produce some distortion at high-frequencies but this is often better than the distortion that would occur at low frequencies if aliasing was allowed to happen.\n",
    "\n",
    "* For more on this topic see Pages 551&mdash;552 of Boulet."
   ]
  },
  {
   "cell_type": "markdown",
   "metadata": {
    "slideshow": {
     "slide_type": "subslide"
    }
   },
   "source": [
    "#### Demo 4.3\n",
    "\n",
    "This example uses anti-aliasing to downsample the audio. You should hear that the sound is less distorted as we sample below the sampling frequency of 8 kHz.\n",
    "\n",
    "Script: [aliaseg2.mlx](aliaseg2.mlx) (Also available as an m-file [aliaseg2.m](aliaseg2.m))"
   ]
  },
  {
   "cell_type": "code",
   "execution_count": 20,
   "metadata": {
    "slideshow": {
     "slide_type": "fragment"
    }
   },
   "outputs": [],
   "source": [
    "open aliaseg2"
   ]
  },
  {
   "cell_type": "markdown",
   "metadata": {
    "slideshow": {
     "slide_type": "slide"
    }
   },
   "source": [
    "### Practical application - digital audio\n",
    "\n",
    "Human beings can hear sounds with frequencies up to around 20 kHz so when recording music in the modern sound studio (or phone or PC for that matter) the audio signal is antialiased with a 22 kHz filter. The signal is then sampled at 44.1 kHz before being stored for later processing and/or playback."
   ]
  },
  {
   "cell_type": "markdown",
   "metadata": {
    "slideshow": {
     "slide_type": "slide"
    }
   },
   "source": [
    "## DT Processing of CT Signals\n",
    "\n",
    "<img src=\"pictures/ct-to-dt.png\">"
   ]
  },
  {
   "cell_type": "markdown",
   "metadata": {
    "slideshow": {
     "slide_type": "notes"
    }
   },
   "source": [
    "The concepts presented in this session provide a model that allows us to cross the bridge between the theoretical concept of impulse chain sampling through to a representation of a signal as discrete sequence $x[n]$ (to be introduced next lecture) and back to a continuous-time signal via reconstruction.\n",
    "\n",
    "The mathematics predicts the nature of the signals that are processed in the ideal case, but we will leave it with you to study these for yourself. (See Boulet pp 552&mdash;557).\n",
    "\n",
    "In practice, modern digital processing relies on the use of an analogue-to-digital converter (ADC) (which also introduces amplitude quantization), finite-length arithmetic inside the discrete-time system (usually a microprocessor, microcontroller or digital signal processor), followed by conversion back to a step-wise continuous signal via a digital to analogue converter (DAC) that operates like a zero-order-hold.\n",
    "\n"
   ]
  },
  {
   "cell_type": "markdown",
   "metadata": {
    "slideshow": {
     "slide_type": "slide"
    }
   },
   "source": [
    "## Sampling of DT Signals\n",
    "\n",
    "* In modern signal processing and digital communications many of the operations that were once done in continuous time are now done entirely in discrete time.\n",
    "\n",
    "* For example, we can implement sampling and modulation in discrete time.\n",
    "\n",
    "* We can also upsample (interpolate between samples) or downsample (reduce the number of samples in a discrete-time signal)\n",
    "\n",
    "These topics are left to you for further study."
   ]
  },
  {
   "cell_type": "markdown",
   "metadata": {
    "slideshow": {
     "slide_type": "slide"
    }
   },
   "source": [
    "## Summary\n",
    "\n",
    "* Sampling of Continuous-Time Signals\n",
    "* Signal Reconstruction\n",
    "* Discrete-time Processing of Continuous-Time Signals\n",
    "* Sampling of Discrete-Time Systems\n",
    "\n",
    "*Next session*\n",
    "\n",
    "* The Z-Transform"
   ]
  },
  {
   "cell_type": "markdown",
   "metadata": {
    "slideshow": {
     "slide_type": "slide"
    }
   },
   "source": [
    "### Answer to Question"
   ]
  },
  {
   "cell_type": "markdown",
   "metadata": {
    "slideshow": {
     "slide_type": "fragment"
    }
   },
   "source": [
    "bit rate = [number of samples per second] x [number of bits per sample] x [number of channels]"
   ]
  },
  {
   "cell_type": "markdown",
   "metadata": {
    "slideshow": {
     "slide_type": "fragment"
    }
   },
   "source": [
    "bit rate = $8192 \\times 8 \\times 1$ bits/second [baud]"
   ]
  },
  {
   "cell_type": "markdown",
   "metadata": {
    "slideshow": {
     "slide_type": "fragment"
    }
   },
   "source": [
    "bit rate = $65,536$ bits/second"
   ]
  },
  {
   "cell_type": "markdown",
   "metadata": {
    "slideshow": {
     "slide_type": "notes"
    }
   },
   "source": [
    "## Matlab Functions used\n",
    "\n",
    "* The matlab recorder command is: `recorder = audiorecorder(Fs,nBits,nChannels);`\n",
    "* Sound is recorded using: `recordblocking(recObj, time);`\n",
    "* Recorded sound is played back: `play(recorder);`\n",
    "* Sound is extracted as Matlab data using: `x = getaudiodata(recorder);`\n",
    "* Sound is plotted against sample number using: `plot(x)`\n",
    "* I extracted 50 points for the stem plot using `stem([1000:1049],myRecording(1000:1049))`\n",
    "* Sound is saved as an audio file using: `audiowrite(audioFile,myRecording,Fs);` where `audiofile` is a filename in form `name.extension`. Supported extensions are `'.wav'`, `'.ogg'`, and `'.flac'` on all platforms. Windows and Mac support `'.m4m'` and '`.mp4`'. \n",
    "* Sound is loaded using `[x,Fs]=audioread(audioFile);`. Additional file formats are supported for reading including `'.mp3'`.\n",
    "* Frequency response spectra were generated using the fast Fourier transform (`fft`) function.\n",
    "* Multiple graphs in one figure window is achieved using `subplot`.\n",
    "\n",
    "For more information use `doc` *command* from the command-line.\n"
   ]
  }
 ],
 "metadata": {
  "anaconda-cloud": {},
  "celltoolbar": "Slideshow",
  "kernelspec": {
   "display_name": "Matlab",
   "language": "matlab",
   "name": "matlab"
  },
  "language_info": {
   "codemirror_mode": "octave",
   "file_extension": ".m",
   "help_links": [
    {
     "text": "MetaKernel Magics",
     "url": "https://github.com/calysto/metakernel/blob/master/metakernel/magics/README.md"
    }
   ],
   "mimetype": "text/x-octave",
   "name": "matlab",
   "version": "0.16.1"
  }
 },
 "nbformat": 4,
 "nbformat_minor": 1
}

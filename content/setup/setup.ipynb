{
 "cells": [
  {
   "cell_type": "markdown",
   "metadata": {},
   "source": [
    "# Setting up your Computing Environment\n",
    "\n",
    "I have used Jupyter notebooks for **EG-247 Signals and Systems** for a number of reasons:\n",
    "\n",
    "1. I can easily produce maths-rich textbook quality notes using the Markdown system provided for documentation blocks.\n",
    "1. I can generate a slide-show from my notes but also print them as PDF files for your convenience.\n",
    "1. I can interweave live coding examples with my notes and execute and change these examples in a live classroom.\n",
    "1. ... more interestingly, you can take the notebooks and experiment with the computing examples yourself!\n",
    "\n",
    "However, to fully access all the examples that have been provided as Jupyter notebooks for EG-247 you will need to install both MATLAB (I used MATLAB 2018a) and Python 3 (I used Anaconda 3) and this is something of a technical challenge.\n",
    "\n",
    "The installation of Anaconda 3 (which includes Jupyter Notebook) and MATLAB is [described elsewhere](https://conda.io/docs/user-guide/install/index.html#) but must be done before you can open and execute this notebook. \n",
    "\n",
    "Assuming that you *have* installed Anaconda 3, you can [download](https://github.com/cpjobling/EG-247-Resources/blob/master/setup/setup.ipynb) and open this notebook using the command:\n",
    "\n",
    "```\n",
    "jupyter notebook setup.ibynb\n",
    "```\n",
    "\n",
    "Alternatively, you can use the **Anaconda Navigator** to launch a Jupyter Notebook and then navigate to the `setup.ipynb` file.\n",
    "\n",
    "**Note** for Windows users, you need to start jupyter as an Administrator.  \n",
    "\n",
    "## Advanced users\n",
    "\n",
    "You may prefer to use the python environments and the command line, in which case, refer to [Advanced Settings](advanced-setup.md)."
   ]
  },
  {
   "cell_type": "markdown",
   "metadata": {},
   "source": [
    "## About this notebook\n",
    "\n",
    "A Jupyter notebook is a combination of documentation and code cells. It is both a sequence of commands (in this case written in Python) that can be executed in sequence and a record of that execution. This notebook documents the process of installing the MATLAB kernel for Jupyter. \n",
    "\n",
    "You should be able to run each code cell in turn without errors. To execute code in a Jupyter notebook, select a code cell and press the run button or type `Shift-Enter`. The next cell will automatically be selected.\n",
    "\n",
    "Alternatively you can simply run the whole notebook by selecting the `Cell->Run All` command from the menu."
   ]
  },
  {
   "cell_type": "markdown",
   "metadata": {},
   "source": [
    "## Test Base Setup\n",
    "\n",
    "The following Python code (adapted from the script [soton-test-python-installation.py](https://fangohr.github.io/blog/code/python/soton-test-python-installation.py) [1]) can be executed to report whether particular python packages are available on the system. \n",
    "\n",
    "First we define some tests."
   ]
  },
  {
   "cell_type": "code",
   "execution_count": 1,
   "metadata": {},
   "outputs": [],
   "source": [
    "import math\n",
    "import os\n",
    "import sys\n",
    "\n",
    "\n",
    "def test_is_python_35():\n",
    "    major = sys.version_info.major\n",
    "    minor = sys.version_info.minor\n",
    "    if major == 3:\n",
    "        pass \n",
    "    else:\n",
    "        print(\"You are running Python {}, but we need Python {}.\".format(major, 3))\n",
    "        print(\"Download and install the Anaconda distribution for Python 3.\")\n",
    "        print(\"Stopping here.\")\n",
    "\n",
    "        # Let's stop here\n",
    "        sys.exit(1)\n",
    "        return None\n",
    "        # assert major == 3, \"Stopping here - we need Python 3.\"\n",
    "\n",
    "    if minor >= 5:\n",
    "        print(\"Testing Python version-> py{}.{} OK\".format(major, minor))\n",
    "    else:\n",
    "        print(\"Warning: You should be running Python 3.5 or newer, \" +\n",
    "              \"you have Python {}.{}.\".format(major, minor))\n",
    "        \n",
    "        \n",
    "def test_numpy():\n",
    "    try:\n",
    "        import numpy as np\n",
    "    except ImportError:\n",
    "        print(\"Could not import numpy -> numpy failed\")\n",
    "        return None\n",
    "    # Simple test\n",
    "    a = np.arange(0, 100, 1)\n",
    "    assert np.sum(a) == sum(a)\n",
    "    print(\"Testing numpy...      -> numpy OK\")\n",
    "\n",
    "\n",
    "def test_scipy():\n",
    "    try:\n",
    "        import scipy\n",
    "    except ImportError:\n",
    "        print(\"Could not import 'scipy' -> scipy failed\")\n",
    "        return None\n",
    "    # Simple test\n",
    "    import scipy.integrate\n",
    "    assert abs(scipy.integrate.quad(lambda x: x * x, 0, 6)[0] - 72.0) < 1e-6\n",
    "    print(\"Testing scipy ...     -> scipy OK\")\n",
    "\n",
    "\n",
    "def test_pylab():\n",
    "    \"\"\"Actually testing matplotlib, as pylab is part of matplotlib.\"\"\"\n",
    "    try:\n",
    "        import pylab\n",
    "    except ImportError:\n",
    "            print(\"Could not import 'matplotlib/pylab' -> failed\")\n",
    "            return None\n",
    "    # Creata plot for testing purposes\n",
    "    xvalues = [i * 0.1 for i in range(100)]\n",
    "    yvalues = [math.sin(x) for x in xvalues]\n",
    "    pylab.plot(xvalues, yvalues, \"-o\", label=\"sin(x)\")\n",
    "    pylab.legend()\n",
    "    pylab.xlabel('x')\n",
    "    testfilename='pylab-testfigure.png'\n",
    "\n",
    "    # check that file does not exist yet:\n",
    "    if os.path.exists(testfilename):\n",
    "        print(\"Skipping plotting to file as file {} exists already.\"\\\n",
    "            .format(testfilename))\n",
    "    else:\n",
    "        # Write plot to file\n",
    "        pylab.savefig(testfilename)\n",
    "        # Then check that file exists\n",
    "        assert os.path.exists(testfilename)\n",
    "        print(\"Testing matplotlib... -> pylab OK\")\n",
    "        os.remove(testfilename)\n",
    "\n",
    "\n",
    "def test_sympy():\n",
    "    try:\n",
    "        import sympy\n",
    "    except ImportError:\n",
    "            print(\"Could not import 'sympy' -> fail\")\n",
    "            return None\n",
    "    # simple test\n",
    "    x = sympy.Symbol('x')\n",
    "    my_f = x ** 2\n",
    "    assert sympy.diff(my_f,x) == 2 * x\n",
    "    print(\"Testing sympy         -> sympy OK\")\n",
    "\n",
    "\n",
    "def test_pytest():\n",
    "    try:\n",
    "        import pytest\n",
    "    except ImportError:\n",
    "            print(\"Could not import 'pytest' -> fail\")\n",
    "            return None\n",
    "    print(\"Testing pytest        -> pytest OK\")"
   ]
  },
  {
   "cell_type": "markdown",
   "metadata": {},
   "source": [
    "The we run the tests to test that we have all the packages we need. If we have installed Anaconda 3 correctly, there should be no errors."
   ]
  },
  {
   "cell_type": "code",
   "execution_count": 2,
   "metadata": {},
   "outputs": [
    {
     "name": "stdout",
     "output_type": "stream",
     "text": [
      "Running using Python 3.6.8 |Anaconda, Inc.| (default, Dec 29 2018, 19:04:46) \n",
      "[GCC 4.2.1 Compatible Clang 4.0.1 (tags/RELEASE_401/final)]\n",
      "Testing Python version-> py3.6 OK\n",
      "Testing numpy...      -> numpy OK\n",
      "Testing scipy ...     -> scipy OK\n",
      "Testing matplotlib... -> pylab OK\n",
      "Testing sympy         -> sympy OK\n",
      "Testing pytest        -> pytest OK\n"
     ]
    }
   ],
   "source": [
    "print(\"Running using Python {}\".format(sys.version))\n",
    "test_is_python_35()\n",
    "test_numpy()\n",
    "test_scipy()\n",
    "test_pylab()\n",
    "test_sympy()\n",
    "test_pytest()"
   ]
  },
  {
   "cell_type": "markdown",
   "metadata": {},
   "source": [
    "The remaining installation instructions are adapted from [2]."
   ]
  },
  {
   "cell_type": "markdown",
   "metadata": {},
   "source": [
    "## Python-MATLAB Bridge\n",
    "\n",
    "To install this, we first have to install MATLAB. I'm assuming that this has been done and you have MATLAB 2017b or greater installed.\n",
    "\n",
    "Now we install the Python-MATLAB bridge. \n",
    "\n",
    "Here we've adapted the instructions given in the official Matlab documentation [MATLAB API for Python](https://uk.mathworks.com/help/matlab/matlab-engine-for-python.html).\n",
    "\n",
    "I ran this on my Mac. The equivalent Windows and Linux commands are given in the comments."
   ]
  },
  {
   "cell_type": "code",
   "execution_count": 3,
   "metadata": {},
   "outputs": [],
   "source": [
    "# Mac OS: \n",
    "matlabroot='/Applications/MATLAB_R2018a.app'\n",
    "# Windows\n",
    "# matlabroot='C:\\Program Files\\MATLAB\\R2018a'\n",
    "# Linux: matlabroot='/usr/local/matlab/R2018a'"
   ]
  },
  {
   "cell_type": "code",
   "execution_count": 4,
   "metadata": {},
   "outputs": [
    {
     "name": "stdout",
     "output_type": "stream",
     "text": [
      "/Applications/MATLAB_R2018a.app/extern/engines/python\n"
     ]
    }
   ],
   "source": [
    "# Unix\n",
    "%cd {matlabroot}/extern/engines/python\n",
    "# Windows: \n",
    "#%cd {matlabroot}\\extern\\engines\\python"
   ]
  },
  {
   "cell_type": "markdown",
   "metadata": {},
   "source": [
    "### Install MATLAB Engine\n",
    "\n",
    "**Notes**\n",
    "\n",
    "* On windows you have to do this step as an admin user\n",
    "  * Open the anaconda prompt as administrator.\n",
    "  * Copy result of previous command\n",
    "  * type `cd` then paste what you've just copied and type `Enter`\n",
    "  * Now copy `python setup.py install`, paste and type `Enter`\n",
    "* If your MATLAB is 2016b, or older, you may need to install an earlier version of Python and repeat the steps above."
   ]
  },
  {
   "cell_type": "code",
   "execution_count": 5,
   "metadata": {},
   "outputs": [
    {
     "name": "stdout",
     "output_type": "stream",
     "text": [
      "running install\r\n",
      "running build\r\n",
      "running build_py\r\n",
      "running install_lib\r\n",
      "creating /Users/eechris/anaconda3/envs/eg-247-textbook/lib/python3.6/site-packages/matlab\r\n",
      "creating /Users/eechris/anaconda3/envs/eg-247-textbook/lib/python3.6/site-packages/matlab/_internal\r\n",
      "copying build/lib/matlab/_internal/mlarray_sequence.py -> /Users/eechris/anaconda3/envs/eg-247-textbook/lib/python3.6/site-packages/matlab/_internal\r\n",
      "copying build/lib/matlab/_internal/mlarray_utils.py -> /Users/eechris/anaconda3/envs/eg-247-textbook/lib/python3.6/site-packages/matlab/_internal\r\n",
      "copying build/lib/matlab/_internal/__init__.py -> /Users/eechris/anaconda3/envs/eg-247-textbook/lib/python3.6/site-packages/matlab/_internal\r\n",
      "copying build/lib/matlab/mlarray.py -> /Users/eechris/anaconda3/envs/eg-247-textbook/lib/python3.6/site-packages/matlab\r\n",
      "copying build/lib/matlab/__init__.py -> /Users/eechris/anaconda3/envs/eg-247-textbook/lib/python3.6/site-packages/matlab\r\n",
      "creating /Users/eechris/anaconda3/envs/eg-247-textbook/lib/python3.6/site-packages/matlab/engine\r\n",
      "copying build/lib/matlab/engine/fevalfuture.py -> /Users/eechris/anaconda3/envs/eg-247-textbook/lib/python3.6/site-packages/matlab/engine\r\n",
      "copying build/lib/matlab/engine/matlabengine.py -> /Users/eechris/anaconda3/envs/eg-247-textbook/lib/python3.6/site-packages/matlab/engine\r\n",
      "copying build/lib/matlab/engine/basefuture.py -> /Users/eechris/anaconda3/envs/eg-247-textbook/lib/python3.6/site-packages/matlab/engine\r\n",
      "copying build/lib/matlab/engine/__init__.py -> /Users/eechris/anaconda3/envs/eg-247-textbook/lib/python3.6/site-packages/matlab/engine\r\n",
      "copying build/lib/matlab/engine/matlabfuture.py -> /Users/eechris/anaconda3/envs/eg-247-textbook/lib/python3.6/site-packages/matlab/engine\r\n",
      "copying build/lib/matlab/engine/_arch.txt -> /Users/eechris/anaconda3/envs/eg-247-textbook/lib/python3.6/site-packages/matlab/engine\r\n",
      "copying build/lib/matlab/engine/futureresult.py -> /Users/eechris/anaconda3/envs/eg-247-textbook/lib/python3.6/site-packages/matlab/engine\r\n",
      "copying build/lib/matlab/engine/enginehelper.py -> /Users/eechris/anaconda3/envs/eg-247-textbook/lib/python3.6/site-packages/matlab/engine\r\n",
      "copying build/lib/matlab/engine/engineerror.py -> /Users/eechris/anaconda3/envs/eg-247-textbook/lib/python3.6/site-packages/matlab/engine\r\n",
      "copying build/lib/matlab/engine/enginesession.py -> /Users/eechris/anaconda3/envs/eg-247-textbook/lib/python3.6/site-packages/matlab/engine\r\n",
      "copying build/lib/matlab/mlexceptions.py -> /Users/eechris/anaconda3/envs/eg-247-textbook/lib/python3.6/site-packages/matlab\r\n",
      "byte-compiling /Users/eechris/anaconda3/envs/eg-247-textbook/lib/python3.6/site-packages/matlab/_internal/mlarray_sequence.py to mlarray_sequence.cpython-36.pyc\r\n",
      "byte-compiling /Users/eechris/anaconda3/envs/eg-247-textbook/lib/python3.6/site-packages/matlab/_internal/mlarray_utils.py to mlarray_utils.cpython-36.pyc\r\n",
      "byte-compiling /Users/eechris/anaconda3/envs/eg-247-textbook/lib/python3.6/site-packages/matlab/_internal/__init__.py to __init__.cpython-36.pyc\r\n",
      "byte-compiling /Users/eechris/anaconda3/envs/eg-247-textbook/lib/python3.6/site-packages/matlab/mlarray.py to mlarray.cpython-36.pyc\r\n",
      "byte-compiling /Users/eechris/anaconda3/envs/eg-247-textbook/lib/python3.6/site-packages/matlab/__init__.py to __init__.cpython-36.pyc\r\n",
      "byte-compiling /Users/eechris/anaconda3/envs/eg-247-textbook/lib/python3.6/site-packages/matlab/engine/fevalfuture.py to fevalfuture.cpython-36.pyc\r\n",
      "byte-compiling /Users/eechris/anaconda3/envs/eg-247-textbook/lib/python3.6/site-packages/matlab/engine/matlabengine.py to matlabengine.cpython-36.pyc\r\n",
      "byte-compiling /Users/eechris/anaconda3/envs/eg-247-textbook/lib/python3.6/site-packages/matlab/engine/basefuture.py to basefuture.cpython-36.pyc\r\n",
      "byte-compiling /Users/eechris/anaconda3/envs/eg-247-textbook/lib/python3.6/site-packages/matlab/engine/__init__.py to __init__.cpython-36.pyc\r\n",
      "byte-compiling /Users/eechris/anaconda3/envs/eg-247-textbook/lib/python3.6/site-packages/matlab/engine/matlabfuture.py to matlabfuture.cpython-36.pyc\r\n",
      "byte-compiling /Users/eechris/anaconda3/envs/eg-247-textbook/lib/python3.6/site-packages/matlab/engine/futureresult.py to futureresult.cpython-36.pyc\r\n",
      "byte-compiling /Users/eechris/anaconda3/envs/eg-247-textbook/lib/python3.6/site-packages/matlab/engine/enginehelper.py to enginehelper.cpython-36.pyc\r\n",
      "byte-compiling /Users/eechris/anaconda3/envs/eg-247-textbook/lib/python3.6/site-packages/matlab/engine/engineerror.py to engineerror.cpython-36.pyc\r\n",
      "byte-compiling /Users/eechris/anaconda3/envs/eg-247-textbook/lib/python3.6/site-packages/matlab/engine/enginesession.py to enginesession.cpython-36.pyc\r\n",
      "byte-compiling /Users/eechris/anaconda3/envs/eg-247-textbook/lib/python3.6/site-packages/matlab/mlexceptions.py to mlexceptions.cpython-36.pyc\r\n",
      "running install_egg_info\r\n",
      "Writing /Users/eechris/anaconda3/envs/eg-247-textbook/lib/python3.6/site-packages/matlabengineforpython-R2018a-py3.6.egg-info\r\n"
     ]
    }
   ],
   "source": [
    "!python setup.py install"
   ]
  },
  {
   "cell_type": "markdown",
   "metadata": {},
   "source": [
    "## Test Python can now communicate with MATLAB\n",
    "\n",
    "First start a MATLAB session"
   ]
  },
  {
   "cell_type": "code",
   "execution_count": 6,
   "metadata": {},
   "outputs": [],
   "source": [
    "import matlab.engine\n",
    "eng = matlab.engine.start_matlab()"
   ]
  },
  {
   "cell_type": "markdown",
   "metadata": {},
   "source": [
    "Then connect to the session"
   ]
  },
  {
   "cell_type": "code",
   "execution_count": 7,
   "metadata": {},
   "outputs": [],
   "source": [
    "eng = matlab.engine.connect_matlab()"
   ]
  },
  {
   "cell_type": "markdown",
   "metadata": {},
   "source": [
    "Now compute something. Here's a 10x10 magic square"
   ]
  },
  {
   "cell_type": "code",
   "execution_count": 8,
   "metadata": {},
   "outputs": [],
   "source": [
    "m = eng.magic(10);"
   ]
  },
  {
   "cell_type": "code",
   "execution_count": 9,
   "metadata": {},
   "outputs": [
    {
     "name": "stdout",
     "output_type": "stream",
     "text": [
      "[[92.0,99.0,1.0,8.0,15.0,67.0,74.0,51.0,58.0,40.0],[98.0,80.0,7.0,14.0,16.0,73.0,55.0,57.0,64.0,41.0],[4.0,81.0,88.0,20.0,22.0,54.0,56.0,63.0,70.0,47.0],[85.0,87.0,19.0,21.0,3.0,60.0,62.0,69.0,71.0,28.0],[86.0,93.0,25.0,2.0,9.0,61.0,68.0,75.0,52.0,34.0],[17.0,24.0,76.0,83.0,90.0,42.0,49.0,26.0,33.0,65.0],[23.0,5.0,82.0,89.0,91.0,48.0,30.0,32.0,39.0,66.0],[79.0,6.0,13.0,95.0,97.0,29.0,31.0,38.0,45.0,72.0],[10.0,12.0,94.0,96.0,78.0,35.0,37.0,44.0,46.0,53.0],[11.0,18.0,100.0,77.0,84.0,36.0,43.0,50.0,27.0,59.0]]\n"
     ]
    }
   ],
   "source": [
    "print(m)"
   ]
  },
  {
   "cell_type": "markdown",
   "metadata": {},
   "source": [
    "Close the session"
   ]
  },
  {
   "cell_type": "code",
   "execution_count": 10,
   "metadata": {},
   "outputs": [],
   "source": [
    "eng.quit()"
   ]
  },
  {
   "cell_type": "markdown",
   "metadata": {},
   "source": [
    "## MATLAB Kernel for Jupyter\n",
    "\n",
    "Finally we install the `matlab_kernel` using the instructions given here: [Calysto/matlab_kernel](https://github.com/Calysto/matlab_kernel/blob/master/README.rst)."
   ]
  },
  {
   "cell_type": "code",
   "execution_count": 11,
   "metadata": {},
   "outputs": [
    {
     "name": "stdout",
     "output_type": "stream",
     "text": [
      "Collecting matlab_kernel\n",
      "  Downloading https://files.pythonhosted.org/packages/c9/a4/9eef40938ef6502d1a6e1a77925f893a744f0dcfd248c137214c7b7fa971/matlab_kernel-0.16.1-py2.py3-none-any.whl\n",
      "Requirement already satisfied: jupyter-client>=4.4.0 in /Users/eechris/anaconda3/envs/eg-247-textbook/lib/python3.6/site-packages (from matlab_kernel) (5.2.4)\n",
      "Requirement already satisfied: ipython>=4.0.0 in /Users/eechris/anaconda3/envs/eg-247-textbook/lib/python3.6/site-packages (from matlab_kernel) (7.2.0)\n",
      "Collecting wurlitzer>=1.0.2; platform_system != \"Windows\" (from matlab_kernel)\n",
      "  Downloading https://files.pythonhosted.org/packages/60/17/de2820542c755f4630a58d295daad86bfa981fbf48b48e5f9e1f2ed806cc/wurlitzer-1.0.2-py2.py3-none-any.whl\n",
      "Collecting metakernel>=0.20.8 (from matlab_kernel)\n",
      "\u001b[?25l  Downloading https://files.pythonhosted.org/packages/49/90/2ef457aa76ca3a7cd2b7f1f1baf97cbd12817e7430394ade52d143105e98/metakernel-0.20.14-py2.py3-none-any.whl (100kB)\n",
      "\u001b[K    100% |################################| 102kB 2.1MB/s a 0:00:011\n",
      "\u001b[?25hRequirement already satisfied: tornado>=4.1 in /Users/eechris/anaconda3/envs/eg-247-textbook/lib/python3.6/site-packages (from jupyter-client>=4.4.0->matlab_kernel) (5.1.1)\n",
      "Requirement already satisfied: pyzmq>=13 in /Users/eechris/anaconda3/envs/eg-247-textbook/lib/python3.6/site-packages (from jupyter-client>=4.4.0->matlab_kernel) (17.1.2)\n",
      "Requirement already satisfied: python-dateutil>=2.1 in /Users/eechris/anaconda3/envs/eg-247-textbook/lib/python3.6/site-packages (from jupyter-client>=4.4.0->matlab_kernel) (2.7.5)\n",
      "Requirement already satisfied: jupyter-core in /Users/eechris/anaconda3/envs/eg-247-textbook/lib/python3.6/site-packages (from jupyter-client>=4.4.0->matlab_kernel) (4.4.0)\n",
      "Requirement already satisfied: traitlets in /Users/eechris/anaconda3/envs/eg-247-textbook/lib/python3.6/site-packages (from jupyter-client>=4.4.0->matlab_kernel) (4.3.2)\n",
      "Requirement already satisfied: setuptools>=18.5 in /Users/eechris/anaconda3/envs/eg-247-textbook/lib/python3.6/site-packages (from ipython>=4.0.0->matlab_kernel) (40.6.3)\n",
      "Requirement already satisfied: jedi>=0.10 in /Users/eechris/anaconda3/envs/eg-247-textbook/lib/python3.6/site-packages (from ipython>=4.0.0->matlab_kernel) (0.13.2)\n",
      "Requirement already satisfied: decorator in /Users/eechris/anaconda3/envs/eg-247-textbook/lib/python3.6/site-packages (from ipython>=4.0.0->matlab_kernel) (4.3.0)\n",
      "Requirement already satisfied: pickleshare in /Users/eechris/anaconda3/envs/eg-247-textbook/lib/python3.6/site-packages (from ipython>=4.0.0->matlab_kernel) (0.7.5)\n",
      "Requirement already satisfied: prompt_toolkit<2.1.0,>=2.0.0 in /Users/eechris/anaconda3/envs/eg-247-textbook/lib/python3.6/site-packages (from ipython>=4.0.0->matlab_kernel) (2.0.7)\n",
      "Requirement already satisfied: pygments in /Users/eechris/anaconda3/envs/eg-247-textbook/lib/python3.6/site-packages (from ipython>=4.0.0->matlab_kernel) (2.3.1)\n",
      "Requirement already satisfied: backcall in /Users/eechris/anaconda3/envs/eg-247-textbook/lib/python3.6/site-packages (from ipython>=4.0.0->matlab_kernel) (0.1.0)\n",
      "Requirement already satisfied: appnope in /Users/eechris/anaconda3/envs/eg-247-textbook/lib/python3.6/site-packages (from ipython>=4.0.0->matlab_kernel) (0.1.0)\n",
      "Requirement already satisfied: pexpect in /Users/eechris/anaconda3/envs/eg-247-textbook/lib/python3.6/site-packages (from ipython>=4.0.0->matlab_kernel) (4.6.0)\n",
      "Requirement already satisfied: ipykernel<6.0 in /Users/eechris/anaconda3/envs/eg-247-textbook/lib/python3.6/site-packages (from metakernel>=0.20.8->matlab_kernel) (5.1.0)\n",
      "Requirement already satisfied: six>=1.5 in /Users/eechris/anaconda3/envs/eg-247-textbook/lib/python3.6/site-packages (from python-dateutil>=2.1->jupyter-client>=4.4.0->matlab_kernel) (1.12.0)\n",
      "Requirement already satisfied: ipython_genutils in /Users/eechris/anaconda3/envs/eg-247-textbook/lib/python3.6/site-packages (from traitlets->jupyter-client>=4.4.0->matlab_kernel) (0.2.0)\n",
      "Requirement already satisfied: parso>=0.3.0 in /Users/eechris/anaconda3/envs/eg-247-textbook/lib/python3.6/site-packages (from jedi>=0.10->ipython>=4.0.0->matlab_kernel) (0.3.1)\n",
      "Requirement already satisfied: wcwidth in /Users/eechris/anaconda3/envs/eg-247-textbook/lib/python3.6/site-packages (from prompt_toolkit<2.1.0,>=2.0.0->ipython>=4.0.0->matlab_kernel) (0.1.7)\n",
      "Requirement already satisfied: ptyprocess>=0.5 in /Users/eechris/anaconda3/envs/eg-247-textbook/lib/python3.6/site-packages (from pexpect->ipython>=4.0.0->matlab_kernel) (0.6.0)\n",
      "Installing collected packages: wurlitzer, metakernel, matlab-kernel\n",
      "Successfully installed matlab-kernel-0.16.1 metakernel-0.20.14 wurlitzer-1.0.2\n"
     ]
    }
   ],
   "source": [
    "!pip install matlab_kernel"
   ]
  },
  {
   "cell_type": "markdown",
   "metadata": {},
   "source": [
    "To check that the `malab_kernel` is properly installed do the following.\n",
    "\n",
    "1. Save this notebook `File->Save`.\n",
    "1. Select `Kernel->Shutdown` from the notebook menu.\n",
    "1. Close the browser window.\n",
    "1. Restart the Jupiter Notebook, as you did at the start, then return here:\n",
    "\n",
    "```\n",
    "jupyter notebook setup.ipynb --debug\n",
    "\n",
    "```"
   ]
  },
  {
   "cell_type": "markdown",
   "metadata": {},
   "source": [
    "## Test MATLAB Kernel\n",
    "\n",
    "From the `Kernel` menu you should be able to navigate to `Change kernel` and `Matlab` should now be listed (Fig. 1).\n",
    "\n",
    "![Figure 1: The Kernel Menu](fig1.png)\n",
    "Figure 1: The Kernel Menu\n",
    "\n",
    "Go ahead and switch to the MATLAB kernel.\n",
    "\n",
    "If all is well, you should see the Kernel indicator (top right) change to 'Matlab' (Fig. 2)\n",
    "\n",
    "![Figure 2: Matlab kernel indicator](fig2.png)\n",
    "Figure 2: The MATLAB kernel indicator"
   ]
  },
  {
   "cell_type": "markdown",
   "metadata": {},
   "source": [
    "You should now be able to execute the MATLAB `magic(10)` function again and get the result shown:\n",
    "\n",
    "```matlab\n",
    "magic(10)\n",
    "\n",
    "ans =\n",
    "\n",
    "    92    99     1     8    15    67    74    51    58    40\n",
    "    98    80     7    14    16    73    55    57    64    41\n",
    "     4    81    88    20    22    54    56    63    70    47\n",
    "    85    87    19    21     3    60    62    69    71    28\n",
    "    86    93    25     2     9    61    68    75    52    34\n",
    "    17    24    76    83    90    42    49    26    33    65\n",
    "    23     5    82    89    91    48    30    32    39    66\n",
    "    79     6    13    95    97    29    31    38    45    72\n",
    "    10    12    94    96    78    35    37    44    46    53\n",
    "    11    18   100    77    84    36    43    50    27    59\n",
    "\n",
    "```\n",
    "\n",
    "Go ahead and execute the next code cell."
   ]
  },
  {
   "cell_type": "code",
   "execution_count": 1,
   "metadata": {
    "scrolled": true
   },
   "outputs": [
    {
     "name": "stdout",
     "output_type": "stream",
     "text": [
      "\n",
      "ans =\n",
      "\n",
      "    92    99     1     8    15    67    74    51    58    40\n",
      "    98    80     7    14    16    73    55    57    64    41\n",
      "     4    81    88    20    22    54    56    63    70    47\n",
      "    85    87    19    21     3    60    62    69    71    28\n",
      "    86    93    25     2     9    61    68    75    52    34\n",
      "    17    24    76    83    90    42    49    26    33    65\n",
      "    23     5    82    89    91    48    30    32    39    66\n",
      "    79     6    13    95    97    29    31    38    45    72\n",
      "    10    12    94    96    78    35    37    44    46    53\n",
      "    11    18   100    77    84    36    43    50    27    59\n",
      "\n"
     ]
    }
   ],
   "source": [
    "magic(10)"
   ]
  },
  {
   "cell_type": "markdown",
   "metadata": {},
   "source": [
    "If you wish to further test the Matlab interface, download this file from the `Calysto/matlab_kernel` repository [matlab_kernel.ipynb](https://github.com/Calysto/matlab_kernel/blob/master/matlab_kernel.ipynb), open it in Jupyter and run the whole notebook.\n",
    "\n",
    "**Note** There is a reported bug ([kernel keeps krashing #101](https://github.com/Calysto/matlab_kernel/issues/101)) with the latest version of `matlab_kernel` (0.15.1) and MATLAB R2017b on a Mac. The kernel crashes randomly. I have experienced this issue myself. The problem is reported to not affect windows but I have not yet independently confirmed this. I will monitor the situation and update this page if a fix is released.\n",
    "\n",
    "If *you* have any problems, send me a message through the Teams page for the EG-247 Course."
   ]
  },
  {
   "cell_type": "markdown",
   "metadata": {},
   "source": [
    "## For More Information on Jupyter\n",
    "\n",
    "To learn more about Jupyter notebooks, the key resource is the [Jupyter Project site](https://jupyter.org) itself. There, under the documentation section, you will find everything you need to fully understand Jupyter. However, it's not arranged in a way that is useful for a beginner! \n",
    "\n",
    "For a quick introduction, I particularly recommend Corey Schafer's YouTube tutorial: https://youtu.be/HW29067qVWk."
   ]
  },
  {
   "cell_type": "code",
   "execution_count": 10,
   "metadata": {},
   "outputs": [
    {
     "data": {
      "text/html": [
       "<iframe width=\"560\" height=\"315\" src=\"https://www.youtube.com/embed/HW29067qVWk\" frameborder=\"0\" allow=\"accelerometer; autoplay; encrypted-media; gyroscope; picture-in-picture\" allowfullscreen></iframe>"
      ],
      "text/plain": [
       "<IPython.core.display.HTML object>"
      ]
     },
     "metadata": {},
     "output_type": "display_data"
    }
   ],
   "source": [
    "%%html\n",
    "<iframe width=\"560\" height=\"315\" src=\"https://www.youtube.com/embed/HW29067qVWk\" frameborder=\"0\" allow=\"accelerometer; autoplay; encrypted-media; gyroscope; picture-in-picture\" allowfullscreen></iframe>"
   ]
  },
  {
   "cell_type": "markdown",
   "metadata": {},
   "source": [
    "## Jupyter Noteboooks versus MATLAB Live Scripts \n",
    "\n",
    "Both Jupyter and MATLAB Live Script trace their origins -- or at least their inspiration -- to the <a href=\"https://en.wikipedia.org/wiki/Wolfram_Mathematica_(software)#The_Notebook_interface\">Mathematica Notebook interface</a>. All allow the mixing of code with output, the running of code in sections, and the ability to add formatted text, images, and equations to tell a story and provide a repeatable record of a computation. \n",
    "\n",
    "The Mathworks claims some [advantages for the MATLAB Live Script interface](https://uk.mathworks.com/matlabcentral/answers/329935-jupyter-notebook-vs-live-scripts#answer_259207) due to its close integration with the MATLAB desktop and the new MATLAB Online product. Other teachers have also advocated the use of Live Script in teaching, e.g. [Teaching with Matlab Live Scripts](http://bastibe.de/2016-06-15-matlab-live-scripts.html). The main issue though is that MATLAB is an expensive, licensed product. It's free to use while you are a student or a teacher at Swansea University. It is extremely expensive once you graduate!\n",
    "\n",
    "For me, the main advantage of Jupyter notebooks is that it is language independent, well supported, open source and free! It also has some features, mentioned at the top of this document, that make it particularly attractive as a support tool for the teaching on this course. \n",
    "\n",
    "That said, we will be using MATLAB throughout this course and MATLAB Live Scripts in the Labs for this module."
   ]
  },
  {
   "cell_type": "markdown",
   "metadata": {},
   "source": [
    "## References\n",
    "\n",
    "1. Fangohr, Prof Hans, *Installation of Python, Spyder, Numpy, Sympy, Scipy, Pytest, Matplotlib via Anaconda*, University of Southampton, 20116. Available from: https://fangohr.github.io/blog/installation-of-python-spyder-numpy-sympy-scipy-pytest-matplotlib-via-anaconda.html.\n",
    "\n",
    "1. Blank, Doug, Silvester, Steven and Lee, Antony, *`Calysto/matlab_kernel` README*, Calysto, 2017. Available from GitHub: https://github.com/Calysto/matlab_kernel/blob/master/README.rst."
   ]
  }
 ],
 "metadata": {
  "kernelspec": {
   "display_name": "Matlab",
   "language": "matlab",
   "name": "matlab"
  },
  "language_info": {
   "codemirror_mode": "octave",
   "file_extension": ".m",
   "help_links": [
    {
     "text": "MetaKernel Magics",
     "url": "https://github.com/calysto/metakernel/blob/master/metakernel/magics/README.md"
    }
   ],
   "mimetype": "text/x-octave",
   "name": "matlab",
   "version": "0.16.1"
  }
 },
 "nbformat": 4,
 "nbformat_minor": 2
}

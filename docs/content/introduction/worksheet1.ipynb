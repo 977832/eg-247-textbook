{
 "cells": [
  {
   "cell_type": "markdown",
   "metadata": {
    "slideshow": {
     "slide_type": "slide"
    }
   },
   "source": [
    "# Worksheet 1\n",
    "\n",
    "## To accompany Chapter 1 Introduction\n",
    "\n",
    "We will step through this worksheet in class. \n",
    "\n",
    "This give us an opportunity to demonstrate the electronic resources, OneNote, Teams, TurningPoint, MATLAB, Simulink and Wolfram Alpha, that we will use to make our time in class more active and enaging. We will also test your background knowledge coming into the module. \n",
    "\n",
    "You are expected to have at least watched the video presentation of [Chapter 1](https://cpjobling.github.io/eg-247-textbook/introduction) of the [notes](https://cpjobling.github.io/eg-247-textbook) before coming to the first class."
   ]
  },
  {
   "cell_type": "markdown",
   "metadata": {
    "slideshow": {
     "slide_type": "slide"
    }
   },
   "source": [
    "## Setup\n",
    "\n",
    "We will be using TurningPoint mobile response system polling in this session.\n",
    "\n",
    "There are two ways to participate:\n",
    "    \n",
    "\n"
   ]
  },
  {
   "cell_type": "markdown",
   "metadata": {
    "slideshow": {
     "slide_type": "subslide"
    }
   },
   "source": [
    "### 1. Use a web browser \n",
    "\n",
    "This option always works providing you have a mobile web browser.\n",
    "\n",
    "Browse to: [https://ttpoll.eu](https://ttpoll.eu). \n",
    "\n",
    "<img src=\"https://chart.googleapis.com/chart?cht=qr&chs=300x300&choe=UTF-8&chld=H&chl=https://ttpoll.eu\" alt=\"QR Code\" />\n",
    "\n",
    "https://ttpoll.eu"
   ]
  },
  {
   "cell_type": "markdown",
   "metadata": {
    "slideshow": {
     "slide_type": "subslide"
    }
   },
   "source": [
    "### 2. Install and open the TurningPoint app \n",
    "\n",
    "Browse to: [TurningPoint\n",
    "app](https://www.turningtechnologies.com/turningpoint-app/)\n",
    "\n",
    "<img alt=\"QR Code\" src=\"https://chart.googleapis.com/chart?cht=qr&chs=300x300&choe=UTF-8&chld=H&chl=https://goo.gl/MEjxu7\" />\n",
    "\n",
    "https://goo.gl/MEjxu7\n",
    "\n",
    "Use the links to the App stores at the bottom of that page or follow these links: [App Store](https://itunes.apple.com/us/app/responseware/id300028504?mt=8), [Google Play](https://play.google.com/store/apps/details?id=com.turningTech.Responseware&feature=search_result#?t=W251bGwsMSwyLDEsImNvbS50dXJuaW5nVGVjaC5SZXNwb25zZXdhcmUiXQ..)."
   ]
  },
  {
   "cell_type": "markdown",
   "metadata": {
    "slideshow": {
     "slide_type": "subslide"
    }
   },
   "source": [
    "When prompted: enter the **session ID**\n",
    "\n",
    "### Today's Session ID\n",
    "<pre>\n",
    "\n",
    "\n",
    "\n",
    "</pre>\n",
    "<div style=\"font-size: 32pt; font-face: bold;\">EG2470001</div>\n",
    "<pre>\n",
    "\n",
    "\n",
    "\n",
    "</pre>"
   ]
  },
  {
   "cell_type": "markdown",
   "metadata": {
    "slideshow": {
     "slide_type": "subslide"
    }
   },
   "source": [
    "### Assign yourself to a group by table\n",
    "\n",
    "There should be a card with a **group name** on your table."
   ]
  },
  {
   "cell_type": "markdown",
   "metadata": {
    "slideshow": {
     "slide_type": "fragment"
    }
   },
   "source": [
    "Please use your TurningPoint app or the TurningPoint web app to assign yourself to your table's group name."
   ]
  },
  {
   "cell_type": "markdown",
   "metadata": {
    "slideshow": {
     "slide_type": "fragment"
    }
   },
   "source": [
    "#### -> Launch Poll"
   ]
  },
  {
   "cell_type": "markdown",
   "metadata": {
    "slideshow": {
     "slide_type": "fragment"
    }
   },
   "source": [
    "The rest of the session will be anonymous and scored by teams."
   ]
  },
  {
   "cell_type": "markdown",
   "metadata": {
    "slideshow": {
     "slide_type": "subslide"
    }
   },
   "source": [
    "### Icebreaker Questions"
   ]
  },
  {
   "cell_type": "markdown",
   "metadata": {
    "slideshow": {
     "slide_type": "fragment"
    }
   },
   "source": [
    "#### -> Launch Poll"
   ]
  },
  {
   "cell_type": "markdown",
   "metadata": {
    "slideshow": {
     "slide_type": "subslide"
    }
   },
   "source": [
    "### End of setup"
   ]
  },
  {
   "cell_type": "markdown",
   "metadata": {
    "slideshow": {
     "slide_type": "slide"
    }
   },
   "source": [
    "## Continuous-time signals\n",
    "\n",
    "Continuous signals are represented mathematically by functions which vary continuously with time.\n",
    "\n",
    "\n",
    "\n"
   ]
  },
  {
   "cell_type": "markdown",
   "metadata": {
    "slideshow": {
     "slide_type": "subslide"
    }
   },
   "source": [
    "Sinusoidal signals (e.g. AC) are pretty fundamental in electrical engineering. The mathematical model of a sinusoidal signal is:\n",
    "\n",
    "$$x(t) = A \\cos (2\\pi f_0 t - \\phi).$$ \n",
    "\n",
    "**Without talking to your anyone**, match each of the symbols to its definition\n",
    "\n",
    "| Symbol     | Definition         |\n",
    "|------------|--------------------|\n",
    "| $A$        | Phase in radians   |\n",
    "| $f_0$      | Frequency in Hz    |\n",
    "| $\\phi$     | Amplitude          |\n",
    "| $2\\pi f_0$ | Frequency in rad/s [rad s<sup>-1</sup>] |"
   ]
  },
  {
   "cell_type": "markdown",
   "metadata": {
    "slideshow": {
     "slide_type": "fragment"
    }
   },
   "source": [
    "#### -> Open Poll"
   ]
  },
  {
   "cell_type": "markdown",
   "metadata": {
    "slideshow": {
     "slide_type": "subslide"
    }
   },
   "source": [
    "### Gaining insight using computers\n",
    "\n",
    "To help us answer these questions, let's use our mathematical tools to plot a signal like this and explore it. The example we will use is from *Signals and Systems for Dummies* (SS4D: page 12): \n",
    "\n",
    "$$3\\cos(2\\pi\\cdot 2t - 3\\pi/4)$$"
   ]
  },
  {
   "cell_type": "markdown",
   "metadata": {
    "slideshow": {
     "slide_type": "subslide"
    }
   },
   "source": [
    "#### Wolfram Alpha\n",
    "\n",
    "Here's the link: <http://www.wolframalpha.com>\n",
    "\n",
    "Paste this into the search box\n",
    "\n",
    "    plot 3 cos(2 pi 2 t - 3 pi/4) \n"
   ]
  },
  {
   "cell_type": "markdown",
   "metadata": {
    "slideshow": {
     "slide_type": "subslide"
    }
   },
   "source": [
    "#### Matlab\n",
    "\n",
    "In Matlab we would need to tackle this by breaking down the steps."
   ]
  },
  {
   "cell_type": "code",
   "execution_count": null,
   "metadata": {},
   "outputs": [],
   "source": [
    "%Make sure that we have a clean workspace\n",
    "clear all\n",
    "format compact"
   ]
  },
  {
   "cell_type": "markdown",
   "metadata": {
    "collapsed": true,
    "slideshow": {
     "slide_type": "fragment"
    }
   },
   "source": [
    "Define `t`"
   ]
  },
  {
   "cell_type": "code",
   "execution_count": null,
   "metadata": {
    "slideshow": {
     "slide_type": "-"
    }
   },
   "outputs": [],
   "source": [
    "t = linspace(0, 1, 100);"
   ]
  },
  {
   "cell_type": "markdown",
   "metadata": {
    "collapsed": true,
    "slideshow": {
     "slide_type": "fragment"
    }
   },
   "source": [
    "Define `x`"
   ]
  },
  {
   "cell_type": "code",
   "execution_count": null,
   "metadata": {
    "slideshow": {
     "slide_type": "-"
    }
   },
   "outputs": [],
   "source": [
    "x = 3 * cos(2*pi*2*t - 3*pi/4);"
   ]
  },
  {
   "cell_type": "markdown",
   "metadata": {
    "collapsed": true,
    "slideshow": {
     "slide_type": "subslide"
    }
   },
   "source": [
    "Plot result, and label plot"
   ]
  },
  {
   "cell_type": "code",
   "execution_count": null,
   "metadata": {
    "slideshow": {
     "slide_type": "-"
    }
   },
   "outputs": [],
   "source": [
    "plot(t,x)\n",
    "title('A Sinusoidal Signal')\n",
    "xlabel('Time t (s)')\n",
    "ylabel('Amplitude')\n",
    "grid"
   ]
  },
  {
   "cell_type": "markdown",
   "metadata": {
    "slideshow": {
     "slide_type": "notes"
    }
   },
   "source": [
    "If you want to execute this in MATLAB, you can create a file."
   ]
  },
  {
   "cell_type": "code",
   "execution_count": null,
   "metadata": {
    "slideshow": {
     "slide_type": "notes"
    }
   },
   "outputs": [],
   "source": [
    "%%file sinewave.m\n",
    "% SINEWAVE - plot function $x(t) = 3 \\cos(2\\pi t - 3 \\pi/4)$ for $t = 0\\ldots 1$\n",
    "\n",
    "%% Set up the problem\n",
    "% define t\n",
    "t = linspace(0, 1, 100);\n",
    "% define x\n",
    "x = 3 * cos(2*pi*2*t - 3*pi/4);\n",
    "%% Plot result and label plot\n",
    "plot(t,x)\n",
    "title('A Sinusoidal Signal')\n",
    "xlabel('Time t (s)')\n",
    "ylabel('Amplitude')\n",
    "grid"
   ]
  },
  {
   "cell_type": "markdown",
   "metadata": {},
   "source": [
    "To run this script, just type the filename withount the `.m` extension"
   ]
  },
  {
   "cell_type": "code",
   "execution_count": null,
   "metadata": {},
   "outputs": [],
   "source": [
    "sinewave"
   ]
  },
  {
   "cell_type": "markdown",
   "metadata": {
    "slideshow": {
     "slide_type": "subslide"
    }
   },
   "source": [
    "### Returning to the Question\n",
    "\n",
    "Sinusoidal signals (e.g. AC) are pretty fundamental in electrical engineering. The mathematical model of a sinusoidal signal is:\n",
    "\n",
    "$$x(t) = A \\cos (2\\pi f_0 t - \\phi).$$ \n",
    "\n",
    "Using the insight just gained by exploring this function with a computer, try matching each of the symbols to its definition again.\n",
    "\n",
    "**This time you may confer!**!\n",
    "\n",
    "| Symbol     | Definition         |\n",
    "|------------|--------------------|\n",
    "| $A$        | Phase in radians   |\n",
    "| $f_0$      | Frequency in Hz    |\n",
    "| $\\phi$     | Amplitude          |\n",
    "| $2\\pi f_0$ | Frequency in rad/s |"
   ]
  },
  {
   "cell_type": "markdown",
   "metadata": {
    "slideshow": {
     "slide_type": "fragment"
    }
   },
   "source": [
    "#### -> Open Poll"
   ]
  },
  {
   "cell_type": "markdown",
   "metadata": {
    "slideshow": {
     "slide_type": "subslide"
    }
   },
   "source": [
    "### Supplementary question\n",
    "\n",
    "What is the period of the waveform in seconds?\n",
    "\n",
    "1. $2\\pi$\n",
    "1. $f_0$\n",
    "1. $t$\n",
    "1. $1/f_0$\n",
    "1. $2\\pi/f_0$"
   ]
  },
  {
   "cell_type": "markdown",
   "metadata": {
    "slideshow": {
     "slide_type": "fragment"
    }
   },
   "source": [
    "#### -> Open poll"
   ]
  },
  {
   "cell_type": "markdown",
   "metadata": {
    "slideshow": {
     "slide_type": "notes"
    }
   },
   "source": [
    "**Notes**\n",
    "\n",
    "* In communications and electronic signal processing, the frequency of sinusoidal signals us usually given in *cycles per second* or Hz. \n",
    "* In mathematics, the frequency is always expressed in *radians per second*. \n",
    "* In some courses, including later in this one and in EG-243 Control Systems, the frequency $2\\pi f_0$ is often called the *natural frequency* and is usually written $\\omega_n$."
   ]
  },
  {
   "cell_type": "markdown",
   "metadata": {
    "slideshow": {
     "slide_type": "notes"
    }
   },
   "source": [
    "### Try This Yourself\n",
    "\n",
    "* Use any or all of computing tools that you have access to to explore other sinusoids. Change the values of the variables and explain what happens. \n",
    "* Try adding sinusoids of different amplitudes and different frequencies together and see what happens.\n",
    "* Change `cos` to `sin` and see what happens.\n"
   ]
  },
  {
   "cell_type": "markdown",
   "metadata": {
    "slideshow": {
     "slide_type": "slide"
    }
   },
   "source": [
    "## Continuous-time Systems\n",
    "\n",
    "Systems operate on signals. In mathematical terms, a *system* is a function or an *operator*, $H\\{\\}$ that maps the input signal $x(t)$ to an output signal $y(t)$. \n",
    "\n",
    "Mathematically we would write this:\n",
    "\n",
    "$$y(t) = H\\{x(t)\\}.$$"
   ]
  },
  {
   "cell_type": "markdown",
   "metadata": {
    "slideshow": {
     "slide_type": "subslide"
    }
   },
   "source": [
    "### Example\n",
    "\n",
    "An example of a continuous-time system is an electronic amplifier with a gain of 5 and level shift of 2: $y(t) = H\\{x(t)\\} = 5x(t) + 2$.\n",
    "\n",
    "In this course, we will model such systems as block diagram models in Simulink."
   ]
  },
  {
   "cell_type": "markdown",
   "metadata": {
    "slideshow": {
     "slide_type": "subslide"
    }
   },
   "source": [
    "#### Block diagram model in Simulink\n",
    "\n",
    "<img src=\"pictures/css.png\">\n",
    "\n",
    "The Similink code can be downloaded from this file [gain_level_shift.slx](gain_level_shift.slx)."
   ]
  },
  {
   "cell_type": "markdown",
   "metadata": {
    "slideshow": {
     "slide_type": "subslide"
    }
   },
   "source": [
    "#### Demonstration\n",
    "\n",
    "If the input to this system is replaced with a sinewave $x(t)=\\sin(t)$ and the output with a scope, what do you think the output will be? Sketch it in your notebook.\n",
    "\n",
    "<pre style=\"border: 2px solid blue\">\n",
    "\n",
    "\n",
    "\n",
    "\n",
    "\n",
    "</pre>\n",
    "\n",
    "If you get a chance, try this in youself in MATLAB and copy the result into your copy of this worksheet.\n"
   ]
  },
  {
   "cell_type": "code",
   "execution_count": null,
   "metadata": {
    "slideshow": {
     "slide_type": "subslide"
    }
   },
   "outputs": [],
   "source": [
    "open gain_level_shift"
   ]
  },
  {
   "cell_type": "markdown",
   "metadata": {
    "slideshow": {
     "slide_type": "slide"
    }
   },
   "source": [
    "## Discrete-time Signals\n",
    "\n",
    "Disrete-time signals are a function of a time index $n$. A discrete-time signal $x[n]$, unlike a continuous-time signal $x(t)$, is only defined at integer values of the independent variable $n$. This means that the signal is only active at specific periods of time. Discrete-time signals can be stored in computer memory."
   ]
  },
  {
   "cell_type": "markdown",
   "metadata": {
    "slideshow": {
     "slide_type": "subslide"
    }
   },
   "source": [
    "### Demonstration\n",
    "\n",
    "Consider the following simple signal, a pulse sequence:$$y[n] = \\left\\{ {\\begin{array}{*{20}{c}}\n",
    "{5,\\;0 \\le n < 10}\\\\\n",
    "{0,\\;{\\rm{otherwise}}\\quad \\;}\n",
    "\\end{array}} \\right.$$\n",
    "We can plot this in Matlab as a *stem plot*"
   ]
  },
  {
   "cell_type": "markdown",
   "metadata": {
    "slideshow": {
     "slide_type": "subslide"
    }
   },
   "source": [
    "#### MATLAB run\n",
    "\n",
    "Define function and save as [y.m](y.m)."
   ]
  },
  {
   "cell_type": "code",
   "execution_count": null,
   "metadata": {
    "slideshow": {
     "slide_type": "subslide"
    }
   },
   "outputs": [],
   "source": [
    "%%file y.m\n",
    "% Define the function\n",
    "function [ y ] = x( n )\n",
    "  if n < 0 | n >= 10 \n",
    "      y = 0;\n",
    "  else \n",
    "      y = 5;\n",
    "  end\n",
    "end"
   ]
  },
  {
   "cell_type": "code",
   "execution_count": null,
   "metadata": {
    "slideshow": {
     "slide_type": "subslide"
    }
   },
   "outputs": [],
   "source": [
    "open y"
   ]
  },
  {
   "cell_type": "code",
   "execution_count": null,
   "metadata": {
    "slideshow": {
     "slide_type": "subslide"
    }
   },
   "outputs": [],
   "source": [
    "%% Define sample points\n",
    "n = -15:18;\n",
    "%% Make space for the signal\n",
    "xn = zeros(size(n));\n",
    "\n",
    "%% Compute the signal x[n]\n",
    "for i = 1:length(xn)\n",
    "    xn(i) = y(n(i));\n",
    "end"
   ]
  },
  {
   "cell_type": "code",
   "execution_count": null,
   "metadata": {
    "slideshow": {
     "slide_type": "subslide"
    }
   },
   "outputs": [],
   "source": [
    "%% Plot the result\n",
    "stem(n,xn)\n",
    "axis([-15, 18, 0, 6])\n",
    "title('Stem Plot for a Discrete Signal')\n",
    "xlabel('Sample n')\n",
    "ylabel('Signal x[n]')\n",
    "grid"
   ]
  },
  {
   "cell_type": "markdown",
   "metadata": {
    "slideshow": {
     "slide_type": "notes"
    }
   },
   "source": [
    "### Exercise 1\n",
    "\n",
    "Draw a digital signal that represents your student number in some way. For example if your number was 765443, then you could generate a signal for which $x[n] = 0$ when $n < 7$, then $x[n] = 7$ for $7$ periods, then $x[n] = 6$ for the next 6 periods, $x[n] = 5$ for 5 periods, and so on. The signal should return to 0 when the last digit has been transmitted. \n",
    "\n",
    "Sketch your signal here:\n",
    "<pre style=\"border: 2px solid blue;\">\n",
    "\n",
    "\n",
    "\n",
    "\n",
    "\n",
    "\n",
    "\n",
    "\n",
    "\n",
    "</pre>\n"
   ]
  },
  {
   "cell_type": "markdown",
   "metadata": {
    "slideshow": {
     "slide_type": "subslide"
    }
   },
   "source": [
    "To plot this on a computer you would need to transcribe $x[n]$ into an array and then use the stem plot to plot the data. You could just create the array by hand, but you could also create a MATLAB function if you would like a challenge."
   ]
  },
  {
   "cell_type": "markdown",
   "metadata": {
    "slideshow": {
     "slide_type": "notes"
    }
   },
   "source": [
    "### Exercise 2\n",
    "\n",
    "For the example we started with $x(t) = 2 \\cos (2\\pi . 2t + 3\\pi/4)$. Say we sample the cosine wave at 20 times the frequency of the sinusoid, what would the sampling period be and what would $N$ be if 1 seconds worth of data for the sampled waveform was to be stored?"
   ]
  },
  {
   "cell_type": "markdown",
   "metadata": {
    "slideshow": {
     "slide_type": "notes"
    }
   },
   "source": [
    "#### Your Answer\n",
    "\n",
    "<pre style=\"border: 2px solid blue\">\n",
    "\n",
    "\n",
    "\n",
    "\n",
    "\n",
    "\n",
    "\n",
    "\n",
    "\n",
    "\n",
    "</pre>"
   ]
  },
  {
   "cell_type": "markdown",
   "metadata": {
    "slideshow": {
     "slide_type": "slide"
    }
   },
   "source": [
    "## Discrete-time Systems\n",
    "\n",
    "A discrete-time system, like its continuous-time counterpart, is a function, $H\\{\\}$, that maps the input $x[n]$￼ ￼to the output $y[n] = H\\{x[n]\\}$. An example of a discrete-time system is the *two-tap* filter:\n",
    "\n",
    "$$y[n] = H\\{x[n]\\} = \\frac{3}{4}x[n] + \\frac{1}{4}x[n-1]$$"
   ]
  },
  {
   "cell_type": "markdown",
   "metadata": {
    "slideshow": {
     "slide_type": "subslide"
    }
   },
   "source": [
    "The term *tap* denotes that output at time instant $n$ is formed from two time instants of the input, $n$ and $n – 1$. Check out a block diagram of a two-tap filter system:\n",
    "\n",
    "<img src=\"pictures/ds.png\" width=\"50%\" />\n",
    "\n",
    "This system is available as a Simulink model [discrete_system.slx](discrete_system.slx)"
   ]
  },
  {
   "cell_type": "code",
   "execution_count": null,
   "metadata": {
    "slideshow": {
     "slide_type": "subslide"
    }
   },
   "outputs": [],
   "source": [
    "open discrete_system"
   ]
  },
  {
   "cell_type": "markdown",
   "metadata": {
    "slideshow": {
     "slide_type": "notes"
    }
   },
   "source": [
    "In words, this system scales the present input by 3/4 and adds it to the past value of the input scaled by 1/4. The notion of the past input comes about because ￼$x[n - 1]$ is lagging one sample value behind ￼$x[n]$. The term *filter* describes the output as an *averaging* of the present input and the previous input. *Averaging* is a form of filtering."
   ]
  },
  {
   "cell_type": "markdown",
   "metadata": {
    "slideshow": {
     "slide_type": "slide"
    }
   },
   "source": [
    "## Signal Classifications"
   ]
  },
  {
   "cell_type": "markdown",
   "metadata": {
    "slideshow": {
     "slide_type": "subslide"
    }
   },
   "source": [
    "### Periodic\n",
    "\n",
    "Signals that repeat over and over are said to be *periodic*. In mathematical terms, a signal is periodic if:\n",
    "\n",
    "* *Continuous signal* $x(t + T) = x(t)$\n",
    "* *Discrete signal* $x[n + N] = x[n]$\n",
    "\n",
    "￼￼￼￼￼￼￼￼￼￼￼￼￼￼￼￼￼￼￼￼￼￼￼￼￼￼￼￼￼￼￼￼￼￼￼￼￼￼￼￼￼￼￼￼￼￼￼￼￼￼￼￼￼￼The smallest $T$ or $N$ for which the equality holds is the *signal period*."
   ]
  },
  {
   "cell_type": "markdown",
   "metadata": {
    "slideshow": {
     "slide_type": "notes"
    }
   },
   "source": [
    "The sinusoidal signal we saw earlier is periodic because of the $\\mod 2\\pi$ property of cosines. The signal of the sinusoid has period 0.5 seconds (s), which turns out to be the reciprocal of the frequency ￼ $1/f_0$￼ ￼ Hz."
   ]
  },
  {
   "cell_type": "markdown",
   "metadata": {
    "slideshow": {
     "slide_type": "subslide"
    }
   },
   "source": [
    "#### Square Wave\n",
    "\n",
    "This code generates a square wave."
   ]
  },
  {
   "cell_type": "code",
   "execution_count": null,
   "metadata": {
    "slideshow": {
     "slide_type": "subslide"
    }
   },
   "outputs": [],
   "source": [
    "%% A Periodic signal (square wave)\n",
    "t = linspace(0, 1, 500);\n",
    "x = square(2 * pi * 5 * t);\n"
   ]
  },
  {
   "cell_type": "markdown",
   "metadata": {
    "slideshow": {
     "slide_type": "notes"
    }
   },
   "source": [
    "This Square wave is a 5 Hz waveform sampled at 500 Hz for 1 second"
   ]
  },
  {
   "cell_type": "code",
   "execution_count": null,
   "metadata": {
    "slideshow": {
     "slide_type": "subslide"
    }
   },
   "outputs": [],
   "source": [
    "plot(t, x);\n",
    "ylim([-2, 2]);\n",
    "grid()\n",
    "title('A Periodic Signal')\n",
    "xlabel('Time t (s)')\n",
    "ylabel('Amplitude')"
   ]
  },
  {
   "cell_type": "markdown",
   "metadata": {
    "slideshow": {
     "slide_type": "fragment"
    }
   },
   "source": [
    "What is the period $T$ in milliseconds?"
   ]
  },
  {
   "cell_type": "markdown",
   "metadata": {
    "slideshow": {
     "slide_type": "notes"
    }
   },
   "source": [
    "Write your answer here\n",
    "<pre style=\"border: 2px solid blue\">\n",
    "\n",
    "\n",
    "\n",
    "\n",
    "</pre>"
   ]
  },
  {
   "cell_type": "markdown",
   "metadata": {
    "slideshow": {
     "slide_type": "fragment"
    }
   },
   "source": [
    "#### -> Open Poll"
   ]
  },
  {
   "cell_type": "markdown",
   "metadata": {
    "slideshow": {
     "slide_type": "subslide"
    }
   },
   "source": [
    "### Aperiodic \n",
    "\n",
    "Signals that are *deterministic* (completely determined functions of time) but not periodic are known as *aperiodic*. Point of view matters. If a signal occurs infrequently, you may view it as aperiodic. \n",
    "\n",
    "This is how we generate an aperiodic rectangular pulse of duration $\\tau$ in Matlab:\n",
    "\n"
   ]
  },
  {
   "cell_type": "code",
   "execution_count": null,
   "metadata": {
    "slideshow": {
     "slide_type": "subslide"
    }
   },
   "outputs": [],
   "source": [
    "%% An aperiodic function\n",
    "tau = 1;\n",
    "x = linspace(-1,5,1000);\n",
    "y = rectangularPulse(0,tau,x);"
   ]
  },
  {
   "cell_type": "code",
   "execution_count": null,
   "metadata": {
    "slideshow": {
     "slide_type": "subslide"
    }
   },
   "outputs": [],
   "source": [
    "plot(x,y)\n",
    "ylim([-0.2,1.2])\n",
    "grid\n",
    "title('An Aperiodic Signal')\n",
    "xlabel('Time t (s)')\n",
    "ylabel('Amplitude')"
   ]
  },
  {
   "cell_type": "markdown",
   "metadata": {
    "slideshow": {
     "slide_type": "subslide"
    }
   },
   "source": [
    "### Random\n",
    "\n",
    "A signal is random if one or more signal attributes takes on unpredictable\n",
    "values in a probability sense.\n",
    "￼￼￼￼￼￼￼￼￼￼￼￼￼￼￼￼￼￼￼￼￼\n",
    "Engineers working with communication receivers are concerned with random\n",
    "signals, especially noise.\n"
   ]
  },
  {
   "cell_type": "code",
   "execution_count": null,
   "metadata": {
    "slideshow": {
     "slide_type": "subslide"
    }
   },
   "outputs": [],
   "source": [
    "%% Plot a Random Signal\n",
    "plot(0.5 + 0.25 * rand(100,1))\n",
    "ylim([0,1])\n",
    "grid\n",
    "title('Random Signal')\n",
    "xlabel('Time t (s)')\n",
    "ylabel('Amplitude')"
   ]
  },
  {
   "cell_type": "markdown",
   "metadata": {
    "slideshow": {
     "slide_type": "slide"
    }
   },
   "source": [
    "## Domains for Signals and Systems\n",
    "\n",
    "Most of the signals we encounter on a daily basis reside in the time domain. They’re functions of independent variable $t$ or $n$. But sometimes when you’re working with continuous-time signals, you may need to transform away from the time domain ($t$) to another domain."
   ]
  },
  {
   "cell_type": "markdown",
   "metadata": {
    "slideshow": {
     "slide_type": "subslide"
    }
   },
   "source": [
    "### Domain Quiz\n",
    "\n",
    "A domain which is used in the analysis of signals and the design of systems is represented by complex numbers of the form:\n",
    "\n",
    "$$\\sigma + j\\omega$$\n",
    "\n",
    "**Without conferring**, tell me what domain is this?"
   ]
  },
  {
   "cell_type": "markdown",
   "metadata": {
    "slideshow": {
     "slide_type": "fragment"
    }
   },
   "source": [
    "#### -> Open Poll"
   ]
  },
  {
   "cell_type": "markdown",
   "metadata": {
    "slideshow": {
     "slide_type": "subslide"
    }
   },
   "source": [
    "### Now discuss your answer with your peers"
   ]
  },
  {
   "cell_type": "markdown",
   "metadata": {
    "slideshow": {
     "slide_type": "subslide"
    }
   },
   "source": [
    "### Domain Quiz (again)\n",
    "\n",
    "A domain which is used in the analysis of signals and the design of systems is represented by complex numbers of the form:\n",
    "\n",
    "$$\\sigma + j\\omega$$\n",
    "\n",
    "Tell me what domain is this?"
   ]
  },
  {
   "cell_type": "markdown",
   "metadata": {
    "slideshow": {
     "slide_type": "fragment"
    }
   },
   "source": [
    "#### -> Open Poll"
   ]
  },
  {
   "cell_type": "markdown",
   "metadata": {
    "slideshow": {
     "slide_type": "subslide"
    }
   },
   "source": [
    "### Other Domains you will encounter\n",
    "\n",
    "The most commonly used domains used when analysing continuous time signals are the frequency domain ($f$ or $\\omega$) and the Laplace $s$-domain ($s$). \n",
    "\n",
    "Similarly, for discrete-time signals, you may need to transform from the discrete-time domain ($n$) to the frequency domain ($\\hat{\\omega}$￼) or the z-domain ($z$).\n",
    "\n",
    "\n",
    "This section briefly introduces the world of signals and systems in the frequency, s-, and z-domains. More on these domains will follow."
   ]
  },
  {
   "cell_type": "markdown",
   "metadata": {
    "slideshow": {
     "slide_type": "notes"
    }
   },
   "source": [
    "Systems, continuous and discrete, can also be transformed to the frequency and s- and z-domains, respectively. Signals can, in fact, be passed through systems in these alternative domains. When a signal is passed through a system in the frequency domain, for example, the frequency domain output signal can later be returned to the time domain and appear just as if the time- domain version of the system operated on the signal in the time domain.\n"
   ]
  },
  {
   "cell_type": "markdown",
   "metadata": {
    "slideshow": {
     "slide_type": "subslide"
    }
   },
   "source": [
    "Consider the sum of a two-sinusoids signal\n",
    "$$x(t) = \\underbrace {A_1\\cos(2\\pi f_1 t)}_{s_1} + \\underbrace {A_2\\cos(2\\pi f_2 t)}_{s_2}$$"
   ]
  },
  {
   "cell_type": "code",
   "execution_count": null,
   "metadata": {
    "slideshow": {
     "slide_type": "notes"
    }
   },
   "outputs": [],
   "source": [
    "%%file two_sines.m\n",
    "%... plot two sinusoids signal\n",
    "A1 = 2; f1 = 1;\n",
    "A2 = 1.5;f2 = 2.2;\n",
    "t = linspace(0, 3*(1/f1), 1000);\n",
    "s1 = A1*cos(2*pi*f1*t);\n",
    "s2 = A2*cos(2*pi*f2*t);\n",
    "subplot(4,1,1)\n",
    "plot(t,s1),ylim([-5,5]),xlabel('Time t (s) '),ylabel('s1')\n",
    "subplot(4,1,2)\n",
    "plot(t,s2),ylim([-5,5]),xlabel('Time t (s) '),ylabel('s2')\n",
    "subplot(4,1,3)\n",
    "plot(t,s1+s2),ylim([-5,5]),xlabel('Time t (s) '),ylabel('x(t) = s2 + s2')\n",
    "subplot(4,1,4)\n",
    "axis([0,4,0,2.5])\n",
    "arrow([f1,0],[f1,A1]),text(f1,A1+0.2,'A1'),text(f1+0.05,0.2,'f1')\n",
    "arrow([f2,0],[f2,A2]),text(f2,A2+0.2,'A2'),text(f2+0.05,0.2,'f2')\n",
    "ylabel('Frequency Spectrum X(f)'),xlabel('Frequency (Hz)')"
   ]
  },
  {
   "cell_type": "code",
   "execution_count": null,
   "metadata": {
    "slideshow": {
     "slide_type": "subslide"
    }
   },
   "outputs": [],
   "source": [
    "two_sines"
   ]
  },
  {
   "cell_type": "markdown",
   "metadata": {
    "slideshow": {
     "slide_type": "slide"
    }
   },
   "source": [
    "### Polling Question\n",
    "\n",
    "Which analysis method you have already encountered in the first year, would turn the time response shown in this picture to the frequency spectrum shown in the bottom graph? \n",
    "\n",
    "* Fourier transform\n",
    "* Parsevel's theorem \n",
    "* Laplace transform\n",
    "* Phasor analysis"
   ]
  },
  {
   "cell_type": "markdown",
   "metadata": {
    "slideshow": {
     "slide_type": "fragment"
    }
   },
   "source": [
    "#### -> Open Poll"
   ]
  },
  {
   "cell_type": "markdown",
   "metadata": {
    "slideshow": {
     "slide_type": "subslide"
    }
   },
   "source": [
    "### Challenge\n",
    "\n",
    "I used the examples from **Signals and Systems for Dummies** to seed this Padlet collection [Examples of Signals and Systems](https://padlet.com/cpjobling/2f62bgl2q8dp).\n",
    "![Examples of Signals and Systems QR Code](https://chart.googleapis.com/chart?cht=qr&chs=300x300&chl=https://padlet.com/cpjobling/2f62bgl2q8dp)\n",
    "\n",
    "Can you add to it?"
   ]
  },
  {
   "cell_type": "markdown",
   "metadata": {
    "slideshow": {
     "slide_type": "slide"
    }
   },
   "source": [
    "## Concluding Example: Some Basic Signal Operations\n",
    "\n",
    "Consider a signal \n",
    "\n",
    "$$x = f(t) = \\left\\{ {\\begin{array}{*{20}{c}}\n",
    "{0\\;:\\;t <  - 1}\\\\\n",
    "{t + 1\\;:\\; - 1 \\le t \\le 1}\\\\\n",
    "{0\\;:\\;t > 1}\n",
    "\\end{array}} \\right.$$\n",
    "\n",
    "Sketch this signal."
   ]
  },
  {
   "cell_type": "markdown",
   "metadata": {
    "slideshow": {
     "slide_type": "notes"
    }
   },
   "source": [
    "<pre style=\"border: 2px solid blue\">\n",
    "\n",
    "\n",
    "\n",
    "\n",
    "\n",
    "\n",
    "\n",
    "\n",
    "\n",
    "\n",
    "\n",
    "\n",
    "</pre>"
   ]
  },
  {
   "cell_type": "markdown",
   "metadata": {
    "slideshow": {
     "slide_type": "slide"
    }
   },
   "source": [
    "### Problem\n",
    "\n",
    "Think about the effect on this signal of applying the following basic signal operations:\n",
    "\n",
    "* $2 f(t)$\n",
    "* $0.5 f(t)$\n",
    "* $f(2t)$\n",
    "* $f(0.5 t)$\n",
    "* $-f(t)$\n",
    "* $f(-t)$\n",
    "* $-f(-t)$\n",
    "* $f(t - 1)$\n",
    "* $f(t + 1)$\n",
    "* $-2f(-t+2)$\n",
    "\n",
    "We will work through these after the break together then you will do some exercises based on [Chapter 1 of Karris](http://site.ebrary.com/lib/swansea/reader.action?docID=10547416&ppg=17)."
   ]
  },
  {
   "cell_type": "markdown",
   "metadata": {
    "slideshow": {
     "slide_type": "notes"
    }
   },
   "source": [
    "## Answers to Selected Exercises\n",
    "\n"
   ]
  },
  {
   "cell_type": "markdown",
   "metadata": {
    "slideshow": {
     "slide_type": "notes"
    }
   },
   "source": [
    "### Exercise 2\n",
    "\n",
    "For the waveform given, $f_0 = 2$ Hz so the sampling frequency is $f_s = 20\\times 2 = 40$ Hz. The sampling period will be $t_s = 1/f_s = 1/40 = 0.025$ s [$25$ ms]. The waveform shown is 1 second so $N = 1/t_s = 40$."
   ]
  }
 ],
 "metadata": {
  "celltoolbar": "Slideshow",
  "kernelspec": {
   "display_name": "Matlab",
   "language": "matlab",
   "name": "matlab"
  },
  "language_info": {
   "codemirror_mode": "octave",
   "file_extension": ".m",
   "help_links": [
    {
     "text": "MetaKernel Magics",
     "url": "https://github.com/calysto/metakernel/blob/master/metakernel/magics/README.md"
    }
   ],
   "mimetype": "text/x-octave",
   "name": "matlab",
   "version": "0.16.1"
  }
 },
 "nbformat": 4,
 "nbformat_minor": 1
}

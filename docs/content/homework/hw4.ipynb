{
 "cells": [
  {
   "cell_type": "markdown",
   "metadata": {
    "slideshow": {
     "slide_type": "slide"
    }
   },
   "source": [
    "# Homework 4\n",
    "\n",
    "\n",
    "## The Impulse Response and Convolution\n",
    "\n",
    "\n",
    "The questions for Homework 4 are based on the examples given in [Section 6.8](https://ebookcentral.proquest.com/lib/swansea-ebooks/reader.action?docID=3384197&ppg=207) of {% cite karris %}. \n",
    "\n",
    "1. Confirm the result of [Example 5](https://cpjobling.github.io/eg-247-textbook/laplace_transform/5/convolution.html#Example-5) from the notes using the convolution integral \n",
    "\n",
    "$$h(t) * u_0(t) = \\int_{-\\infty}^{\\infty}\\,u_0(\\tau)h(t-\\tau)\\,d\\tau$$\n",
    "\n",
    "2. Compute the impulse response $h(t) = i_s(t)$ (where $i_s(t) = \\delta(t)$) in terms of $R$ and $L$ for the circuit shown below. Use this result to compute the voltage $v_L(t)$ across the inductor. \n",
    "\n",
    "![RL Circuit](pictures/rl_circ.jpeg)\n",
    "\n",
    "4. Redo the graphical convolution [Example 2](https://cpjobling.github.io/eg-247-textbook/laplace_transform/5/convolution.html#Example-2) from the notes by forming $h(t - \\tau)$ instead of $u(t - \\tau)$. That is, use the convolution integral $$\\int_{-\\infty}^{\\infty}\\,u(\\tau)h(t-\\tau)\\,d\\tau.$$ Confirm the result in MATLAB.\n",
    "\n",
    "5. Redo the graphical convolution [Example 2](https://cpjobling.github.io/eg-247-textbook/laplace_transform/5/convolution.html#Example-3) from the notes by forming $h(t-\\tau)$ instead of $u(t-\\tau)$. Confirm the result in MATLAB.\n",
    "\n",
    "3. Derive the transfer function $H(s) = V_L(s)/I_s(s)$ for the circuit of Question 2. \n",
    "\n",
    "   Use this result to\n",
    "\n",
    "    a. Confirm the impulse response of this circuit $V_L(t)$.\n",
    "    \n",
    "    b. Compute the step response $$V_L(t) = \\mathcal L^{-1}\\left\\{ H(s) U_0(s)\\right\\}.$$\n",
    "    \n",
    "    c. Validate this result in MATLAB.\n",
    "    \n",
    "6. For the network show below compute:\n",
    "\n",
    "   1. The transfer function $H(s) = V_{\\mathrm{out}}(s)/V_{\\mathrm{in}}(s)$;\n",
    "   \n",
    "   2. The response of this circuit to the input $v_{\\mathrc{in}}(t) = u_0(t) - u+0(t - 1).$\n",
    "   \n",
    "      ![L R Circuit](pictures/lr_circ.png)\n",
    "\n",
    "7. For the network shown below compute: \n",
    "\n",
    "   1.  The transfer function $H(s) = V_{\\mathrm{out}}(s)/V_{\\mathrc{in]}(s)$$\n",
    "   \n",
    "   2.  Determine the time constant of the network.\n",
    "   \n",
    "       ![R C Network](pictures/rc_circ.png)\n",
    "    \n"
   ]
  },
  {
   "cell_type": "markdown",
   "metadata": {
    "slideshow": {
     "slide_type": "slide"
    }
   },
   "source": [
    "### Answers to selected problems\n",
    "\n",
    "* For question 2: $$h(t) = i_s(t) = \\left(\\frac{1}{L}\\right)e^{-\\left(\\frac{R}{L}\\right)t}\\,u_0(t);$$\n",
    "\n",
    "$$v_L(t)=-\\left(\\frac{R}{L}\\right)e^{-\\left(\\frac{R}{L}t\\right)}u_0(t) +\\delta(t).$$\n",
    "\n",
    "* For question 6 the step response is: $$v_L(t) = Le^{-\\left(\\frac{R}{L}\\right)t}u_0(t).$$"
   ]
  },
  {
   "cell_type": "markdown",
   "metadata": {
    "slideshow": {
     "slide_type": "slide"
    }
   },
   "source": [
    "### Transfer functions\n",
    "\n",
    "End of Chapter Questions 5 to 8."
   ]
  },
  {
   "cell_type": "markdown",
   "metadata": {},
   "source": [
    "### Reference\n",
    "\n",
    "{% bibliography --cited %}\n"
   ]
  },
  {
   "cell_type": "code",
   "execution_count": null,
   "metadata": {},
   "outputs": [],
   "source": []
  }
 ],
 "metadata": {
  "kernelspec": {
   "display_name": "Python 3",
   "language": "python",
   "name": "python3"
  },
  "language_info": {
   "codemirror_mode": {
    "name": "ipython",
    "version": 3
   },
   "file_extension": ".py",
   "mimetype": "text/x-python",
   "name": "python",
   "nbconvert_exporter": "python",
   "pygments_lexer": "ipython3",
   "version": "3.7.5"
  }
 },
 "nbformat": 4,
 "nbformat_minor": 4
}

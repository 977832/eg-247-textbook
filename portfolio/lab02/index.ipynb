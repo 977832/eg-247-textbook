{
 "cells": [
  {
   "cell_type": "markdown",
   "metadata": {},
   "source": [
    "# Lab 2: Laplace and Inverse Laplace Transforms\n",
    "\n",
    "## Preamble\n",
    "\n",
    "### Associated Class Notes\n",
    "\n",
    "This lab supports the materials covered in [Chapter 3 Laplace Transforms](https://cpjobling.github.io/eg-247-textbook/laplace_transform/index) of the course notes. You may wish to refer to the Worksheets [worksheet 4](https://cpjobling.github.io/eg-247-textbook/worksheets/worksheet4) and [worksheet 5](https://cpjobling.github.io/eg-247-textbook/worksheets/worksheet5) for additional examples to try. \n",
    "\n",
    "### Other formats\n",
    "\n",
    "This document is available in [HTML](https://cpjobling.github.io/eg-247-textbook/labs/lab02/index) format for online viewing and [PDF](https://cpjobling.github.io/eg-247-textbook/labs/lab02/lab02.pdf) for printing.\n",
    "\n",
    "### Acknowledgements\n",
    "\n",
    "These examples have been adapted from Chapters 1, 2 and 3 of Stephen Karris, [Signals and Systems : With MATLAB Computing and Simulink Modeling (5th Edition)](http://site.ebrary.com/lib/swansea/docDetail.action?docID=10547416).\n",
    "\n",
    "## Lab Exercise 2: Laplace Transforms\n",
    "\n",
    "Use file save as to download the script [laplace_lab.m](laplace_lab.m). Open the script as a Live Script and use the Matlab ``laplace`` and ``ezplot`` functions as appropriate to complete the examples given in the comments in the script.\n",
    "\n",
    "Save and attach the resulting modified script ``laplace_lab`` as a Live Script file to the Teams assignement page for **Lab 2: Laplace and Inverse Laplace Transforms** of your OneNote portfolio.\n",
    "\n",
    "3 Marks\n",
    "\n",
    "## Lab Exercise 3: Inverse Laplace Transforms\n",
    "\n",
    "Use file save as to download the script [ilaplace_lab.m](ilaplace_lab.m). Open the script as a Live Script and use the Matlab ``laplace``, ``ilaplace`` and ``ezplot`` functions as appropriate to complete the examples given in the comments in the script.\n",
    "\n",
    "Save and attach the resulting modified script ``ilaplace_lab`` as a Live Script file to the Teams assignement page for **Lab 2: Laplace and Inverse Laplace Transforms** of your OneNote portfolio.\n",
    "\n",
    "2 marks\n",
    "\n",
    "## What to Turn In\n",
    "\n",
    "Marks should be be claimed according to how many of the parts of Exercises 2 and 3 have been completed.\n",
    "\n",
    "You should attach the files you wish to claim for to the Lab 2 submission page in OneNote, complete the claim form and turn-in your assignment through Teams.\n",
    "\n",
    "## Claim\n",
    "\n",
    "Up to three marks can be claimed according to how much of Exercise 2 you have completed and Exercise 3 is worth an addition 2 marks.\n",
    "\n",
    "See [Assessment and Feedback: Labwork Assessment](https://docs.google.com/spreadsheets/d/1U-O2hu_Th369EHp6mdc1_j_7ARew2WosE93cjsW012c/edit?usp=sharing) for a detailed marking scheme.\n",
    "\n",
    "The deadline for claims and submission is **Midnight, 1st March**.\n",
    "\n",
    "## Doing More?\n",
    "\n",
    "If you have time remaining, you may wish to work through Appendix B of the textbook. That chapter introduces Simulunk in a way that matches the presentation in the rest of the book.\n"
   ]
  }
 ],
 "metadata": {
  "kernelspec": {
   "display_name": "Matlab",
   "language": "matlab",
   "name": "matlab"
  },
  "language_info": {
   "codemirror_mode": "octave",
   "file_extension": ".m",
   "help_links": [
    {
     "text": "MetaKernel Magics",
     "url": "https://github.com/calysto/metakernel/blob/master/metakernel/magics/README.md"
    }
   ],
   "mimetype": "text/x-octave",
   "name": "matlab",
   "version": "0.16.1"
  }
 },
 "nbformat": 4,
 "nbformat_minor": 2
}
